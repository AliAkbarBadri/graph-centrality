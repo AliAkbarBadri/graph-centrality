{
  "nbformat": 4,
  "nbformat_minor": 0,
  "metadata": {
    "colab": {
      "name": "axiom.ipynb",
      "provenance": [],
      "include_colab_link": true
    },
    "kernelspec": {
      "name": "python3",
      "display_name": "Python 3"
    }
  },
  "cells": [
    {
      "cell_type": "markdown",
      "metadata": {
        "id": "view-in-github",
        "colab_type": "text"
      },
      "source": [
        "<a href=\"https://colab.research.google.com/github/AliAkbarBadri/graph-centrality/blob/main/axiom.ipynb\" target=\"_parent\"><img src=\"https://colab.research.google.com/assets/colab-badge.svg\" alt=\"Open In Colab\"/></a>"
      ]
    },
    {
      "cell_type": "markdown",
      "metadata": {
        "id": "DvhuMQMUJK-z"
      },
      "source": [
        "# **Prerequisite**"
      ]
    },
    {
      "cell_type": "code",
      "metadata": {
        "id": "e7YcL2mMSU4R"
      },
      "source": [
        "import networkx as nx\r\n",
        "import pandas as pd\r\n",
        "import glob\r\n",
        "import time\r\n",
        "import numpy as np\r\n",
        "from random import *\r\n"
      ],
      "execution_count": null,
      "outputs": []
    },
    {
      "cell_type": "code",
      "metadata": {
        "id": "Iu3x2O9TTyXE",
        "colab": {
          "base_uri": "https://localhost:8080/"
        },
        "outputId": "58fa3f1b-e8cc-4613-93fb-339de2ec643f"
      },
      "source": [
        "\r\n",
        "def count_subgraph(G, v):\r\n",
        "  neighbours = G.edges(v)\r\n",
        "  if len(neighbours) == 0:\r\n",
        "    return 1\r\n",
        "  else:\r\n",
        "    for e in neighbours:\r\n",
        "      G_temp = G.copy()\r\n",
        "      G_temp.remove_edge(*e)\r\n",
        "      a = count_subgraph(G_temp, v)\r\n",
        "      b = (2**G.number_of_edges(*e) - 1)*count_subgraph(nx.contracted_edge(G, e, self_loops=False), e[0])\r\n",
        "      return a + b\r\n",
        "def count_tree(T, v):\r\n",
        "  neighbours = T.edges(v)\r\n",
        "  if len(neighbours) == 0:\r\n",
        "    return 1\r\n",
        "  else:\r\n",
        "    for e in neighbours:\r\n",
        "      T_temp = T.copy()\r\n",
        "      T_temp.remove_edge(*e)\r\n",
        "      return count_tree(T_temp, v) * (count_tree(T_temp,e[1]) + 1)\r\n",
        "\r\n",
        "! curl -L https://api.github.com/repos/AliAkbarBadri/graph-centrality/tarball --output repo.tar\r\n",
        "! tar xf repo.tar --wildcards \"*/data/*.csv\" --strip-components=1\r\n",
        "! rm -rf repo.tar\r\n",
        "\r\n",
        "def create_graph_from_csv(dir_name:str) -> dict:\r\n",
        "  graphs = {}\r\n",
        "  for file_name in sorted(glob.glob(dir_name+'/*.csv')):\r\n",
        "    df = pd.read_csv(file_name,header=None,names=['src', 'dest'])\r\n",
        "    G = nx.from_pandas_edgelist(df,source=\"src\",target=\"dest\", create_using=nx.DiGraph())\r\n",
        "    dataset_name = file_name.split(\"/\")[1].split(\".csv\")[0]\r\n",
        "    print(dataset_name, G.number_of_nodes(), G.number_of_edges())\r\n",
        "    graphs[dataset_name] = G\r\n",
        "  return graphs\r\n",
        "\r\n",
        "graphs = create_graph_from_csv(dir_name=\"data\")\r\n",
        "\r\n",
        "  "
      ],
      "execution_count": null,
      "outputs": [
        {
          "output_type": "stream",
          "text": [
            "  % Total    % Received % Xferd  Average Speed   Time    Time     Time  Current\n",
            "                                 Dload  Upload   Total   Spent    Left  Speed\n",
            "  0     0    0     0    0     0      0      0 --:--:-- --:--:-- --:--:--     0\n",
            "100  453k    0  453k    0     0   526k      0 --:--:-- --:--:-- --:--:-- 2006k\n",
            "ENZYMES_g297 121 298\n",
            "aves-songbird-social 110 1027\n",
            "bn-mouse_visual-cortex_1 29 44\n",
            "bn-mouse_visual-cortex_2 193 214\n",
            "ca-sandi_auths 86 124\n",
            "email-dnc-corecipient 906 12085\n",
            "email-enron-only 143 623\n",
            "facebook-socfb-Amherst41 2235 90953\n",
            "insecta-ant-colony1-day01 113 4550\n",
            "reptilia-tortoise-network-lm 45 106\n",
            "road-chesapeake 39 170\n",
            "rt-retweet 96 117\n",
            "soc-dolphins 62 159\n",
            "soc-wiki-Vote 889 2914\n",
            "web-edu 3031 6474\n",
            "web-polblogs 643 2280\n",
            "web-spam 4767 37375\n"
          ],
          "name": "stdout"
        }
      ]
    },
    {
      "cell_type": "markdown",
      "metadata": {
        "id": "fcddISmN0cuS"
      },
      "source": [
        "# **AXIOM 1**"
      ]
    },
    {
      "cell_type": "markdown",
      "metadata": {
        "id": "Y40KSzoBQxvd"
      },
      "source": [
        "axiom 1 :monotonicity : tree centrality"
      ]
    },
    {
      "cell_type": "code",
      "metadata": {
        "id": "TGlPBR3dRPMH"
      },
      "source": [
        "def check_monotonicity_tree(G, number_node):\r\n",
        "    # axiom 1 : monotonicity\r\n",
        "    # test C(v,G-e) <= C(v,G) for 10 random node\r\n",
        "    check_array = [0, 0]\r\n",
        "    for i in range(number_node):\r\n",
        "        random_node = choice(list(G.nodes()))\r\n",
        "        removed_edge = choice(list(G.edges()))\r\n",
        "        score_v = count_tree(G, random_node)\r\n",
        "        G_temp = G.copy()\r\n",
        "        G_temp.remove_edge(*removed_edge)\r\n",
        "        score_v_without = count_tree(G_temp, random_node)\r\n",
        "        check = score_v_without <= score_v\r\n",
        "        if check:\r\n",
        "            check_array[0] += 1\r\n",
        "        else:\r\n",
        "            check_array[1] += 1\r\n",
        "        # print(str(i) + \"st round : compute score for node \" + str(random_node) + \" , remove \" + str(\r\n",
        "        #     removed_edge) + \" edge , meet condition? \" + str(check))\r\n",
        "    print(\"Success rate tree centrality =  \" + str(round((check_array[0] / (check_array[0] + check_array[1])) * 100)) + \"%\")\r\n"
      ],
      "execution_count": null,
      "outputs": []
    },
    {
      "cell_type": "markdown",
      "metadata": {
        "id": "0zvAMmnz1Lsw"
      },
      "source": [
        "axiom 1 :monotonicity : subgraph centrality"
      ]
    },
    {
      "cell_type": "code",
      "metadata": {
        "id": "9ZaHOjic1Qg3"
      },
      "source": [
        "def check_monotonicity_subgraph(G, number_node):\r\n",
        "    # axiom 1 : monotonicity\r\n",
        "    # test C(v,G-e) <= C(v,G) for 10 random node\r\n",
        "    check_array = [0, 0]\r\n",
        "    for i in range(number_node):\r\n",
        "        random_node = choice(list(G.nodes()))\r\n",
        "        removed_edge = choice(list(G.edges()))\r\n",
        "        score_v = count_subgraph(G, random_node)\r\n",
        "        G_temp = G.copy()\r\n",
        "        G_temp.remove_edge(*removed_edge)\r\n",
        "        score_v_without = count_tree(G_temp, random_node)\r\n",
        "        check = score_v_without <= score_v\r\n",
        "        if check:\r\n",
        "            check_array[0] += 1\r\n",
        "        else:\r\n",
        "            check_array[1] += 1\r\n",
        "        # print(str(i) + \"st round : compute score for node \" + str(random_node) + \" , remove \" + str(\r\n",
        "            # removed_edge) + \" edge , meet condition? \" + str(check))\r\n",
        "    print(\"Success rate subgraph centrality =  \" + str(round((check_array[0] / (check_array[0] + check_array[1])) * 100)) + \"%\")\r\n"
      ],
      "execution_count": null,
      "outputs": []
    },
    {
      "cell_type": "markdown",
      "metadata": {
        "id": "bVu8VdG_RImg"
      },
      "source": [
        "test axiom 1"
      ]
    },
    {
      "cell_type": "code",
      "metadata": {
        "colab": {
          "base_uri": "https://localhost:8080/"
        },
        "id": "PWQS7Uk_Q2cs",
        "outputId": "ed7f9e7a-76da-4714-c93a-6b9759fb4e20"
      },
      "source": [
        "number_node = 10\r\n",
        "for key, value in graphs.items():\r\n",
        "  if graphs[key].number_of_nodes()<50 :\r\n",
        "    G = graphs[key]\r\n",
        "    print(\"Graph: {}\".format(key))\r\n",
        "    print(\"-----------\")\r\n",
        "    check_monotonicity_tree(G,number_node)\r\n",
        "    check_monotonicity_subgraph(G,number_node)\r\n",
        "    print(\"------------------------\")\r\n"
      ],
      "execution_count": null,
      "outputs": [
        {
          "output_type": "stream",
          "text": [
            "Graph: bn-mouse_visual-cortex_1\n",
            "-----------\n",
            "Success rate tree centrality =  100%\n",
            "Success rate subgraph centrality =  100%\n",
            "------------------------\n",
            "Graph: reptilia-tortoise-network-lm\n",
            "-----------\n",
            "Success rate tree centrality =  100%\n",
            "Success rate subgraph centrality =  20%\n",
            "------------------------\n",
            "Graph: road-chesapeake\n",
            "-----------\n",
            "Success rate tree centrality =  100%\n"
          ],
          "name": "stdout"
        }
      ]
    },
    {
      "cell_type": "markdown",
      "metadata": {
        "id": "SwFVHEY40Wwn"
      },
      "source": [
        "# **AXIOM 2**"
      ]
    },
    {
      "cell_type": "markdown",
      "metadata": {
        "id": "sP2AJnANWK_1"
      },
      "source": [
        "axiom 2 : rank monotonicity : tree centrality"
      ]
    },
    {
      "cell_type": "code",
      "metadata": {
        "id": "M63IhA2qWM7N"
      },
      "source": [
        "def check_rank_monotonicity_tree(G, number_node):\r\n",
        "    # test if C(v,G-e)<= C(u,G-e) then C(v,G) <= C(u,G) for 10 random node\r\n",
        "    check_array = [0, 0]\r\n",
        "    for i in range(number_node):\r\n",
        "        random_node = sample(list(G.nodes()),2)\r\n",
        "        removed_edge = choice(list(G.edges()))\r\n",
        "        score_v = count_tree(G, random_node[0])\r\n",
        "        score_u = count_tree(G, random_node[1])\r\n",
        "        G_temp = G.copy()\r\n",
        "        G_temp.remove_edge(*removed_edge)\r\n",
        "        score_v_without = count_tree(G_temp, random_node[0])\r\n",
        "        score_u_without = count_tree(G_temp, random_node[1])\r\n",
        "        check = (score_v_without <= score_u_without and score_v <= score_u) or (score_u_without <= score_v_without and score_u <= score_v)\r\n",
        "        if check:\r\n",
        "            check_array[0] += 1\r\n",
        "        else:\r\n",
        "            check_array[1] += 1\r\n",
        "        # print(str(i) + \"st round : compute score for nodes \" + str(random_node) + \" , remove \" + str(\r\n",
        "        #     removed_edge) + \" edge , meet condition? \" + str(check))\r\n",
        "    print(\"Success rate tree centrality =  \" + str(round((check_array[0] / (check_array[0] + check_array[1])) * 100)) + \"%\")\r\n"
      ],
      "execution_count": null,
      "outputs": []
    },
    {
      "cell_type": "markdown",
      "metadata": {
        "id": "L0pAvf5Y2XhS"
      },
      "source": [
        "axiom 2 : rank monotonicity : subgraph centrality"
      ]
    },
    {
      "cell_type": "code",
      "metadata": {
        "id": "ogxHyJSb2YSx"
      },
      "source": [
        "def check_rank_monotonicity_subgraph(G, number_node):\r\n",
        "    # test if C(v,G-e)<= C(u,G-e) then C(v,G) <= C(u,G) for 10 random node\r\n",
        "    check_array = [0, 0]\r\n",
        "    for i in range(number_node):\r\n",
        "        random_node = sample(list(G.nodes()),2)\r\n",
        "        removed_edge = choice(list(G.edges()))\r\n",
        "        score_v = count_subgraph(G, random_node[0])\r\n",
        "        score_u = count_subgraph(G, random_node[1])\r\n",
        "        G_temp = G.copy()\r\n",
        "        G_temp.remove_edge(*removed_edge)\r\n",
        "        score_v_without = count_subgraph(G_temp, random_node[0])\r\n",
        "        score_u_without = count_subgraph(G_temp, random_node[1])\r\n",
        "        check = (score_v_without <= score_u_without and score_v <= score_u) or (score_u_without <= score_v_without and score_u <= score_v)\r\n",
        "        if check:\r\n",
        "            check_array[0] += 1\r\n",
        "        else:\r\n",
        "            check_array[1] += 1\r\n",
        "        # print(str(i) + \"st round : compute score for nodes \" + str(random_node) + \" , remove \" + str(\r\n",
        "        #     removed_edge) + \" edge , meet condition? \" + str(check))\r\n",
        "    print(\"Success rate subgraph centrality =  \" + str(round((check_array[0] / (check_array[0] + check_array[1])) * 100)) + \"%\")\r\n"
      ],
      "execution_count": null,
      "outputs": []
    },
    {
      "cell_type": "markdown",
      "metadata": {
        "id": "cR94pPj7X_5u"
      },
      "source": [
        "test axiom 2"
      ]
    },
    {
      "cell_type": "code",
      "metadata": {
        "colab": {
          "base_uri": "https://localhost:8080/"
        },
        "id": "_D34wNbeadZ1",
        "outputId": "bdf36d8b-0ca6-409b-bbf5-8086341bbd55"
      },
      "source": [
        "number_node = 10\r\n",
        "for key, value in graphs.items():\r\n",
        "  if graphs[key].number_of_nodes()<50 :\r\n",
        "    G = graphs[key]\r\n",
        "    print(\"Graph: {}\".format(key))\r\n",
        "    print(\"-------------\")\r\n",
        "    check_rank_monotonicity_tree(G,number_node)\r\n",
        "    check_rank_monotonicity_subgraph(G,number_node)\r\n",
        "    print(\"------------------------\")\r\n"
      ],
      "execution_count": null,
      "outputs": [
        {
          "output_type": "stream",
          "text": [
            "Graph: bn-mouse_visual-cortex_1\n",
            "------------------------\n",
            "0st round : compute score for nodes [4, 10] , remove (5, 28) edge , meet condition? True\n",
            "1st round : compute score for nodes [6, 16] , remove (3, 17) edge , meet condition? True\n",
            "2st round : compute score for nodes [24, 6] , remove (11, 0) edge , meet condition? True\n",
            "3st round : compute score for nodes [11, 0] , remove (9, 26) edge , meet condition? True\n",
            "4st round : compute score for nodes [11, 20] , remove (10, 27) edge , meet condition? True\n",
            "5st round : compute score for nodes [10, 25] , remove (9, 24) edge , meet condition? True\n",
            "6st round : compute score for nodes [5, 19] , remove (11, 27) edge , meet condition? True\n",
            "7st round : compute score for nodes [12, 8] , remove (7, 22) edge , meet condition? True\n",
            "8st round : compute score for nodes [8, 10] , remove (9, 23) edge , meet condition? True\n",
            "9st round : compute score for nodes [2, 16] , remove (9, 26) edge , meet condition? True\n",
            "Success rate =  100%\n",
            "------------------------\n",
            "Graph: ca-sandi_auths\n",
            "------------------------\n",
            "0st round : compute score for nodes [15, 66] , remove (49, 47) edge , meet condition? True\n",
            "1st round : compute score for nodes [45, 41] , remove (48, 27) edge , meet condition? True\n",
            "2st round : compute score for nodes [62, 36] , remove (26, 2) edge , meet condition? True\n",
            "3st round : compute score for nodes [49, 46] , remove (40, 6) edge , meet condition? True\n",
            "4st round : compute score for nodes [11, 44] , remove (69, 43) edge , meet condition? True\n",
            "5st round : compute score for nodes [56, 5] , remove (49, 47) edge , meet condition? True\n",
            "6st round : compute score for nodes [42, 66] , remove (76, 32) edge , meet condition? True\n",
            "7st round : compute score for nodes [26, 21] , remove (66, 17) edge , meet condition? True\n",
            "8st round : compute score for nodes [32, 34] , remove (72, 43) edge , meet condition? True\n",
            "9st round : compute score for nodes [20, 67] , remove (61, 49) edge , meet condition? True\n",
            "Success rate =  100%\n",
            "------------------------\n",
            "Graph: reptilia-tortoise-network-lm\n",
            "------------------------\n",
            "0st round : compute score for nodes [30, 31] , remove (12, 13) edge , meet condition? True\n",
            "1st round : compute score for nodes [13, 29] , remove (35, 9) edge , meet condition? True\n",
            "2st round : compute score for nodes [18, 5] , remove (34, 8) edge , meet condition? True\n",
            "3st round : compute score for nodes [14, 27] , remove (18, 25) edge , meet condition? True\n",
            "4st round : compute score for nodes [35, 39] , remove (6, 14) edge , meet condition? True\n",
            "5st round : compute score for nodes [33, 26] , remove (12, 13) edge , meet condition? True\n",
            "6st round : compute score for nodes [38, 15] , remove (13, 25) edge , meet condition? True\n",
            "7st round : compute score for nodes [21, 4] , remove (35, 9) edge , meet condition? True\n",
            "8st round : compute score for nodes [32, 31] , remove (11, 33) edge , meet condition? True\n",
            "9st round : compute score for nodes [14, 44] , remove (20, 24) edge , meet condition? True\n",
            "Success rate =  100%\n",
            "------------------------\n",
            "Graph: road-chesapeake\n",
            "------------------------\n",
            "0st round : compute score for nodes [16, 20] , remove (39, 27) edge , meet condition? True\n",
            "1st round : compute score for nodes [28, 32] , remove (36, 9) edge , meet condition? True\n",
            "2st round : compute score for nodes [27, 6] , remove (36, 26) edge , meet condition? True\n",
            "3st round : compute score for nodes [18, 17] , remove (7, 6) edge , meet condition? True\n",
            "4st round : compute score for nodes [5, 4] , remove (39, 5) edge , meet condition? True\n",
            "5st round : compute score for nodes [39, 10] , remove (23, 8) edge , meet condition? True\n",
            "6st round : compute score for nodes [4, 16] , remove (7, 6) edge , meet condition? True\n",
            "7st round : compute score for nodes [38, 8] , remove (39, 18) edge , meet condition? True\n",
            "8st round : compute score for nodes [8, 37] , remove (35, 9) edge , meet condition? True\n",
            "9st round : compute score for nodes [37, 16] , remove (11, 2) edge , meet condition? True\n",
            "Success rate =  100%\n",
            "------------------------\n",
            "Graph: rt-retweet\n",
            "------------------------\n",
            "0st round : compute score for nodes [10, 85] , remove (93, 5) edge , meet condition? True\n",
            "1st round : compute score for nodes [79, 20] , remove (39, 8) edge , meet condition? True\n",
            "2st round : compute score for nodes [69, 76] , remove (76, 1) edge , meet condition? True\n",
            "3st round : compute score for nodes [93, 52] , remove (75, 45) edge , meet condition? True\n",
            "4st round : compute score for nodes [95, 49] , remove (90, 56) edge , meet condition? True\n",
            "5st round : compute score for nodes [7, 70] , remove (89, 86) edge , meet condition? True\n",
            "6st round : compute score for nodes [60, 53] , remove (93, 34) edge , meet condition? True\n",
            "7st round : compute score for nodes [62, 43] , remove (76, 1) edge , meet condition? True\n",
            "8st round : compute score for nodes [78, 54] , remove (93, 48) edge , meet condition? True\n",
            "9st round : compute score for nodes [42, 34] , remove (54, 9) edge , meet condition? True\n",
            "Success rate =  100%\n",
            "------------------------\n",
            "Graph: soc-dolphins\n",
            "------------------------\n",
            "0st round : compute score for nodes [17, 25] , remove (58, 40) edge , meet condition? True\n",
            "1st round : compute score for nodes [51, 58] , remove (41, 16) edge , meet condition? True\n",
            "2st round : compute score for nodes [30, 4] , remove (55, 14) edge , meet condition? True\n",
            "3st round : compute score for nodes [10, 26] , remove (35, 34) edge , meet condition? True\n",
            "4st round : compute score for nodes [17, 59] , remove (14, 6) edge , meet condition? True\n",
            "5st round : compute score for nodes [29, 26] , remove (21, 17) edge , meet condition? False\n",
            "6st round : compute score for nodes [39, 47] , remove (62, 54) edge , meet condition? True\n",
            "7st round : compute score for nodes [48, 19] , remove (46, 9) edge , meet condition? True\n",
            "8st round : compute score for nodes [35, 55] , remove (18, 14) edge , meet condition? True\n",
            "9st round : compute score for nodes [59, 33] , remove (14, 10) edge , meet condition? True\n",
            "Success rate =  90%\n",
            "------------------------\n"
          ],
          "name": "stdout"
        }
      ]
    },
    {
      "cell_type": "markdown",
      "metadata": {
        "id": "Lq7VZ5H70EuH"
      },
      "source": [
        "# **AXIOM 3**"
      ]
    },
    {
      "cell_type": "markdown",
      "metadata": {
        "id": "ZUrTBLlBbW22"
      },
      "source": [
        "axiom 3 : line minimization : tree centrality"
      ]
    },
    {
      "cell_type": "code",
      "metadata": {
        "id": "u2Vgchmwba1S"
      },
      "source": [
        "def check_line_minimization_tree(G, number_node):\r\n",
        "    # test C(0,Ln) <= C(v,G) for 10 random node\r\n",
        "    check_array = [0, 0]\r\n",
        "    G.remove_nodes_from(list(nx.isolates(G)))\r\n",
        "    for i in range(number_node):\r\n",
        "        random_node = choice(list(G.nodes()))\r\n",
        "        score_v = count_tree(G, random_node)\r\n",
        "        line = nx.path_graph(G.number_of_nodes())\r\n",
        "        score_line = count_tree(line,0)\r\n",
        "        check = score_line <= score_v\r\n",
        "        if check:\r\n",
        "            check_array[0] += 1\r\n",
        "        else:\r\n",
        "            check_array[1] += 1\r\n",
        "        # print(str(i) + \"st round : compute score for node \" + str(random_node) +\" meet condition? \" + str(check))\r\n",
        "    rate = round((check_array[0] / (check_array[0] + check_array[1])) * 100)\r\n",
        "    print(\"Success rate tree centrality =  \" + str(rate) + \"%\")\r\n",
        "    return rate\r\n"
      ],
      "execution_count": null,
      "outputs": []
    },
    {
      "cell_type": "markdown",
      "metadata": {
        "id": "ajxGdp6q45iz"
      },
      "source": [
        "axiom 3 : line minimization : subgraph centrality"
      ]
    },
    {
      "cell_type": "code",
      "metadata": {
        "id": "MRROS4hl47z5"
      },
      "source": [
        "def check_line_minimization_subgraph(G, number_node):\r\n",
        "    # test C(0,Ln) <= C(v,G) for 10 random node\r\n",
        "    check_array = [0, 0]\r\n",
        "    G.remove_nodes_from(list(nx.isolates(G)))\r\n",
        "    for i in range(number_node):\r\n",
        "        random_node = choice(list(G.nodes()))\r\n",
        "        score_v = count_subgraph(G, random_node)\r\n",
        "        line = nx.path_graph(G.number_of_nodes())\r\n",
        "        score_line = count_subgraph(line,0)\r\n",
        "        check = score_line <= score_v\r\n",
        "        if check:\r\n",
        "            check_array[0] += 1\r\n",
        "        else:\r\n",
        "            check_array[1] += 1\r\n",
        "        # print(str(i) + \"st round : compute score for node \" + str(random_node) +\" meet condition? \" + str(check))\r\n",
        "    rate = round((check_array[0] / (check_array[0] + check_array[1])) * 100)\r\n",
        "    print(\"Success rate subgraph centrality =  \" + str(rate) + \"%\")\r\n",
        "    return rate"
      ],
      "execution_count": null,
      "outputs": []
    },
    {
      "cell_type": "markdown",
      "metadata": {
        "id": "uBv2kgTXcPiC"
      },
      "source": [
        "test axiom 3"
      ]
    },
    {
      "cell_type": "code",
      "metadata": {
        "colab": {
          "base_uri": "https://localhost:8080/"
        },
        "id": "6GM0S-F-cSeD",
        "outputId": "6be0b1ce-7c4d-4d6e-8e69-e65b20dab172"
      },
      "source": [
        "number_node = 10\r\n",
        "for key, value in graphs.items():\r\n",
        "  if graphs[key].number_of_nodes()<50 :\r\n",
        "    G = graphs[key]\r\n",
        "    print(\"Graph: {}\".format(key))\r\n",
        "    print(\"-------------\")\r\n",
        "    check_line_minimization_tree(G,number_node)\r\n",
        "    check_line_minimization_subgraph(G,number_node)\r\n",
        "    print(\"------------------------\")\r\n"
      ],
      "execution_count": null,
      "outputs": [
        {
          "output_type": "stream",
          "text": [
            "Graph: bn-mouse_visual-cortex_1\n",
            "-------------\n",
            "Success rate =  10%\n",
            "------------------------\n",
            "Graph: ca-sandi_auths\n",
            "-------------\n",
            "Success rate =  20%\n",
            "------------------------\n",
            "Graph: reptilia-tortoise-network-lm\n",
            "-------------\n",
            "Success rate =  40%\n",
            "------------------------\n",
            "Graph: road-chesapeake\n",
            "-------------\n",
            "Success rate =  50%\n",
            "------------------------\n",
            "Graph: rt-retweet\n",
            "-------------\n",
            "Success rate =  10%\n",
            "------------------------\n",
            "Graph: soc-dolphins\n",
            "-------------\n",
            "Success rate =  60%\n",
            "------------------------\n",
            "<<<<<<<<<<<<<<>>>>>>>>>>>>>>>>>\n",
            "average success rate = 31.666666666666668%\n"
          ],
          "name": "stdout"
        }
      ]
    },
    {
      "cell_type": "markdown",
      "metadata": {
        "id": "KSECflRZ-zE1"
      },
      "source": [
        "# **AXIOM 4**"
      ]
    },
    {
      "cell_type": "markdown",
      "metadata": {
        "id": "enyCy4VzQp2u"
      },
      "source": [
        "axiom 4 : continuity"
      ]
    },
    {
      "cell_type": "code",
      "metadata": {
        "id": "Mmf8fGjo3vrY",
        "colab": {
          "base_uri": "https://localhost:8080/"
        },
        "outputId": "0a6e1874-bfc5-422b-d999-6c77dce257a5"
      },
      "source": [
        "G = graphs['soc-dolphins']\r\n",
        "nodes = []\r\n",
        "for i in range(G.number_of_nodes()):\r\n",
        "  if i < 40 :\r\n",
        "    nodes.append(i+1)\r\n",
        "G1 = G.subgraph(nodes)\r\n",
        "for i in range(1,G1.number_of_nodes()):\r\n",
        "\r\n",
        "  print(count_tree(G1,i))\r\n",
        "  print(count_tree(G,i))"
      ],
      "execution_count": null,
      "outputs": [
        {
          "output_type": "stream",
          "text": [
            "1\n",
            "1\n",
            "1\n",
            "1\n",
            "1\n",
            "1\n",
            "1\n",
            "1\n",
            "1\n",
            "1\n",
            "1\n",
            "1\n",
            "1\n",
            "1\n",
            "1\n",
            "1\n",
            "2\n",
            "2\n",
            "4\n",
            "4\n",
            "4\n",
            "4\n",
            "1\n",
            "1\n",
            "1\n",
            "1\n",
            "20\n",
            "20\n",
            "4\n",
            "4\n",
            "2\n",
            "2\n",
            "5\n",
            "5\n",
            "420\n",
            "420\n",
            "3\n",
            "3\n",
            "4\n",
            "4\n",
            "72\n",
            "72\n",
            "4\n",
            "4\n",
            "421\n",
            "421\n",
            "1\n",
            "1\n",
            "60\n",
            "60\n",
            "421\n",
            "421\n",
            "844\n",
            "844\n",
            "600497560\n",
            "600497560\n",
            "438\n",
            "438\n",
            "6100\n",
            "6100\n",
            "4390\n",
            "4390\n",
            "421\n",
            "421\n",
            "105\n",
            "105\n",
            "300\n",
            "300\n",
            "1505\n",
            "1505\n",
            "6101\n",
            "6101\n",
            "292\n",
            "292\n",
            "59768396100\n",
            "59768396100\n",
            "659190\n",
            "659190\n"
          ],
          "name": "stdout"
        }
      ]
    },
    {
      "cell_type": "markdown",
      "metadata": {
        "id": "KGlWtI1Yncs6"
      },
      "source": [
        "# **Axiom 5**"
      ]
    },
    {
      "cell_type": "markdown",
      "metadata": {
        "id": "pigxqAJBniRV"
      },
      "source": [
        "axiom 5 : size : tree centrality"
      ]
    },
    {
      "cell_type": "code",
      "metadata": {
        "id": "moGHxBLKnu9Y"
      },
      "source": [
        "def check_size_tree(G, number_n):\r\n",
        "    # test N <= C(0,G) for 10 random N \r\n",
        "    check_array = [0, 0]\r\n",
        "    check = False\r\n",
        "    G.remove_nodes_from(list(nx.isolates(G)))\r\n",
        "    for i in range(number_n):\r\n",
        "        random_n = randint(0,G.number_of_edges())\r\n",
        "        for node in list(G.nodes()):\r\n",
        "          score_v = count_tree(G, node)\r\n",
        "          if score_v > random_n : check = True\r\n",
        "          if check : break\r\n",
        "        if check : check_array[0]+=1\r\n",
        "        else : check_array[1]+=1\r\n",
        "        # print(str(i) + \"st round : compute score for n \" + str(random_n) +\" meet condition? \" + str(check))\r\n",
        "    rate = round((check_array[0] / (check_array[0] + check_array[1])) * 100)\r\n",
        "    print(\"Success rate subgraph centrality =  \" + str(rate) + \"%\")\r\n",
        "    return rate"
      ],
      "execution_count": null,
      "outputs": []
    },
    {
      "cell_type": "markdown",
      "metadata": {
        "id": "cdgKvfB1nvZu"
      },
      "source": [
        "axiom 5 : size : subgraph centrality"
      ]
    },
    {
      "cell_type": "code",
      "metadata": {
        "id": "DqiX4hbFnzVj"
      },
      "source": [
        "def check_size_subgraph(G, number_n):\r\n",
        "    # test N <= C(0,G) for 10 random N \r\n",
        "    check_array = [0, 0]\r\n",
        "    check = False\r\n",
        "    G.remove_nodes_from(list(nx.isolates(G)))\r\n",
        "    for i in range(number_n):\r\n",
        "        random_n = randint(0,G.number_of_edges())\r\n",
        "        for node in list(G.nodes()):\r\n",
        "          score_v = count_subgraph(G, node)\r\n",
        "          if score_v > random_n : check = True\r\n",
        "          if check : break\r\n",
        "        if check : check_array[0]+=1\r\n",
        "        else : check_array[1]+=1\r\n",
        "        # print(str(i) + \"st round : compute score for n \" + str(random_n) +\" meet condition? \" + str(check))\r\n",
        "    rate = round((check_array[0] / (check_array[0] + check_array[1])) * 100)\r\n",
        "    print(\"Success rate subgraph centrality =  \" + str(rate) + \"%\")\r\n",
        "    return rate"
      ],
      "execution_count": null,
      "outputs": []
    },
    {
      "cell_type": "markdown",
      "metadata": {
        "id": "ESfOniM_nzzL"
      },
      "source": [
        "test axiom 5"
      ]
    },
    {
      "cell_type": "code",
      "metadata": {
        "id": "rczQ_TXLn2dh",
        "colab": {
          "base_uri": "https://localhost:8080/"
        },
        "outputId": "c55eb12e-6ef5-403a-8022-f7890f0423a9"
      },
      "source": [
        "number_n = 10\r\n",
        "for key, value in graphs.items():\r\n",
        "  if graphs[key].number_of_nodes()<50 :\r\n",
        "    G = graphs[key]\r\n",
        "    print(\"Graph: {}\".format(key))\r\n",
        "    print(\"-------------\")\r\n",
        "    check_size_tree(G,number_n)\r\n",
        "    check_size_subgraph(G,number_node)\r\n",
        "    print(\"------------------------\")\r\n"
      ],
      "execution_count": null,
      "outputs": [
        {
          "output_type": "stream",
          "text": [
            "Graph: bn-mouse_visual-cortex_1\n",
            "-------------\n",
            "Success rate subgraph centrality =  100%\n",
            "Success rate subgraph centrality =  100%\n",
            "------------------------\n",
            "Graph: reptilia-tortoise-network-lm\n",
            "-------------\n",
            "Success rate subgraph centrality =  100%\n",
            "Success rate subgraph centrality =  100%\n",
            "------------------------\n",
            "Graph: road-chesapeake\n",
            "-------------\n",
            "Success rate subgraph centrality =  100%\n"
          ],
          "name": "stdout"
        }
      ]
    }
  ]
}