{
  "nbformat": 4,
  "nbformat_minor": 0,
  "metadata": {
    "colab": {
      "name": "axiom.ipynb",
      "provenance": [],
      "include_colab_link": true
    },
    "kernelspec": {
      "name": "python3",
      "display_name": "Python 3"
    }
  },
  "cells": [
    {
      "cell_type": "markdown",
      "metadata": {
        "id": "view-in-github",
        "colab_type": "text"
      },
      "source": [
        "<a href=\"https://colab.research.google.com/github/AliAkbarBadri/graph-centrality/blob/main/axiom.ipynb\" target=\"_parent\"><img src=\"https://colab.research.google.com/assets/colab-badge.svg\" alt=\"Open In Colab\"/></a>"
      ]
    },
    {
      "cell_type": "markdown",
      "metadata": {
        "id": "DvhuMQMUJK-z"
      },
      "source": [
        "Prerequisite"
      ]
    },
    {
      "cell_type": "code",
      "metadata": {
        "id": "e7YcL2mMSU4R"
      },
      "source": [
        "import networkx as nx\r\n",
        "import pandas as pd\r\n",
        "import glob\r\n",
        "import time\r\n",
        "import numpy as np\r\n",
        "from random import choice\r\n",
        "from random import sample"
      ],
      "execution_count": 8,
      "outputs": []
    },
    {
      "cell_type": "code",
      "metadata": {
        "id": "Iu3x2O9TTyXE",
        "colab": {
          "base_uri": "https://localhost:8080/"
        },
        "outputId": "66ab308a-0002-4453-809e-ccd2ca2584aa"
      },
      "source": [
        "\r\n",
        "def count_subgraph(G, v):\r\n",
        "  neighbours = G.edges(v)\r\n",
        "  if len(neighbours) == 0:\r\n",
        "    return 1\r\n",
        "  else:\r\n",
        "    for e in neighbours:\r\n",
        "      G_temp = G.copy()\r\n",
        "      G_temp.remove_edge(*e)\r\n",
        "      a = count_subgraph(G_temp, v)\r\n",
        "      b = (2**G.number_of_edges(*e) - 1)*count_subgraph(nx.contracted_edge(G, e, self_loops=False), e[0])\r\n",
        "      return a + b\r\n",
        "def count_tree(T, v):\r\n",
        "  neighbours = T.edges(v)\r\n",
        "  if len(neighbours) == 0:\r\n",
        "    return 1\r\n",
        "  else:\r\n",
        "    for e in neighbours:\r\n",
        "      T_temp = T.copy()\r\n",
        "      T_temp.remove_edge(*e)\r\n",
        "      return count_tree(T_temp, v) * (count_tree(T_temp,e[1]) + 1)\r\n",
        "\r\n",
        "! curl -L https://api.github.com/repos/AliAkbarBadri/graph-centrality/tarball --output repo.tar\r\n",
        "! tar xf repo.tar --wildcards \"*/data/*.csv\" --strip-components=1\r\n",
        "! rm -rf repo.tar\r\n",
        "\r\n",
        "def create_graph_from_csv(dir_name:str) -> dict:\r\n",
        "  graphs = {}\r\n",
        "  for file_name in sorted(glob.glob(dir_name+'/*.csv')):\r\n",
        "    df = pd.read_csv(file_name,header=None,names=['src', 'dest'])\r\n",
        "    G = nx.from_pandas_edgelist(df,source=\"src\",target=\"dest\", create_using=nx.DiGraph())\r\n",
        "    dataset_name = file_name.split(\"/\")[1].split(\".csv\")[0]\r\n",
        "    print(dataset_name, G.number_of_nodes(), G.number_of_edges())\r\n",
        "    graphs[dataset_name] = G\r\n",
        "  return graphs\r\n",
        "\r\n",
        "graphs = create_graph_from_csv(dir_name=\"data\")\r\n",
        "\r\n",
        "  "
      ],
      "execution_count": 4,
      "outputs": [
        {
          "output_type": "stream",
          "text": [
            "  % Total    % Received % Xferd  Average Speed   Time    Time     Time  Current\n",
            "                                 Dload  Upload   Total   Spent    Left  Speed\n",
            "  0     0    0     0    0     0      0      0 --:--:-- --:--:-- --:--:--     0\n",
            "100  438k    0  438k    0     0   632k      0 --:--:-- --:--:-- --:--:-- 1365k\n",
            "ENZYMES_g297 121 298\n",
            "aves-songbird-social 110 1027\n",
            "bn-mouse_visual-cortex_2 193 214\n",
            "ca-sandi_auths 86 124\n",
            "email-dnc-corecipient 906 12085\n",
            "email-enron-only 143 623\n",
            "facebook-socfb-Amherst41 2235 90953\n",
            "insecta-ant-colony1-day01 113 4550\n",
            "reptilia-tortoise-network-lm 45 106\n",
            "road-chesapeake 39 170\n",
            "rt-retweet 96 117\n",
            "soc-dolphins 62 159\n",
            "soc-wiki-Vote 889 2914\n",
            "web-edu 3031 6474\n",
            "web-polblogs 643 2280\n",
            "web-spam 4767 37375\n"
          ],
          "name": "stdout"
        }
      ]
    },
    {
      "cell_type": "markdown",
      "metadata": {
        "id": "Y40KSzoBQxvd"
      },
      "source": [
        "axiom 1 :monotonicity"
      ]
    },
    {
      "cell_type": "code",
      "metadata": {
        "id": "TGlPBR3dRPMH"
      },
      "source": [
        "def check_monotonicity(G, number_node):\r\n",
        "    # axiom 1 : monotonicity\r\n",
        "    # test C(v,G-e) <= C(v,G) for 10 random node\r\n",
        "    check_array = [0, 0]\r\n",
        "    for i in range(number_node):\r\n",
        "        random_node = choice(list(G.nodes()))\r\n",
        "        removed_edge = choice(list(G.edges()))\r\n",
        "        score_v = count_tree(G, random_node)\r\n",
        "        G_temp = G.copy()\r\n",
        "        G_temp.remove_edge(*removed_edge)\r\n",
        "        score_v_without = count_tree(G_temp, random_node)\r\n",
        "        check = score_v_without <= score_v\r\n",
        "        if check:\r\n",
        "            check_array[0] += 1\r\n",
        "        else:\r\n",
        "            check_array[1] += 1\r\n",
        "        print(str(i) + \"st round : compute score for node \" + str(random_node) + \" , remove \" + str(\r\n",
        "            removed_edge) + \" edge , meet condition? \" + str(check))\r\n",
        "    print(\"Success rate =  \" + str(round((check_array[0] / (check_array[0] + check_array[1])) * 100)) + \"%\")\r\n"
      ],
      "execution_count": 5,
      "outputs": []
    },
    {
      "cell_type": "markdown",
      "metadata": {
        "id": "bVu8VdG_RImg"
      },
      "source": [
        "test axiom 1"
      ]
    },
    {
      "cell_type": "code",
      "metadata": {
        "colab": {
          "base_uri": "https://localhost:8080/"
        },
        "id": "PWQS7Uk_Q2cs",
        "outputId": "709b1bbc-cbe3-4aee-bddb-488d87eb79d9"
      },
      "source": [
        "number_node = 10\r\n",
        "for key, value in graphs.items():\r\n",
        "  if graphs[key].number_of_nodes()<100 :\r\n",
        "    G = graphs[key]\r\n",
        "    print(\"Graph: {}\".format(key))\r\n",
        "    print(\"------------------------\")\r\n",
        "    check_monotonicity(G,number_node)\r\n",
        "    # print(\"Number of Nodes: {}\".format(G.number_of_nodes()))\r\n",
        "    # print(\"Number of Edges: {}\".format(G.number_of_edges()))\r\n",
        "    print(\"------------------------\")\r\n"
      ],
      "execution_count": 7,
      "outputs": [
        {
          "output_type": "stream",
          "text": [
            "Graph: ca-sandi_auths\n",
            "------------------------\n",
            "0st round : compute score for node 20 , remove (48, 30) edge , meet condition? True\n",
            "1st round : compute score for node 81 , remove (69, 53) edge , meet condition? True\n",
            "2st round : compute score for node 83 , remove (75, 3) edge , meet condition? True\n",
            "3st round : compute score for node 47 , remove (59, 45) edge , meet condition? True\n",
            "4st round : compute score for node 33 , remove (43, 36) edge , meet condition? True\n",
            "5st round : compute score for node 79 , remove (44, 33) edge , meet condition? True\n",
            "6st round : compute score for node 32 , remove (53, 43) edge , meet condition? True\n",
            "7st round : compute score for node 35 , remove (77, 70) edge , meet condition? True\n",
            "8st round : compute score for node 30 , remove (48, 30) edge , meet condition? True\n",
            "9st round : compute score for node 65 , remove (65, 14) edge , meet condition? True\n",
            "Success rate =  100%\n",
            "------------------------\n",
            "Graph: reptilia-tortoise-network-lm\n",
            "------------------------\n",
            "0st round : compute score for node 32 , remove (6, 7) edge , meet condition? True\n",
            "1st round : compute score for node 34 , remove (32, 44) edge , meet condition? True\n",
            "2st round : compute score for node 40 , remove (33, 25) edge , meet condition? True\n",
            "3st round : compute score for node 19 , remove (12, 14) edge , meet condition? True\n",
            "4st round : compute score for node 7 , remove (42, 5) edge , meet condition? True\n",
            "5st round : compute score for node 12 , remove (9, 22) edge , meet condition? True\n",
            "6st round : compute score for node 40 , remove (34, 19) edge , meet condition? True\n",
            "7st round : compute score for node 28 , remove (16, 21) edge , meet condition? True\n",
            "8st round : compute score for node 5 , remove (18, 9) edge , meet condition? True\n",
            "9st round : compute score for node 31 , remove (4, 5) edge , meet condition? True\n",
            "Success rate =  100%\n",
            "------------------------\n",
            "Graph: road-chesapeake\n",
            "------------------------\n",
            "0st round : compute score for node 15 , remove (27, 14) edge , meet condition? True\n",
            "1st round : compute score for node 9 , remove (35, 5) edge , meet condition? True\n",
            "2st round : compute score for node 21 , remove (19, 12) edge , meet condition? True\n",
            "3st round : compute score for node 32 , remove (35, 22) edge , meet condition? True\n",
            "4st round : compute score for node 22 , remove (36, 29) edge , meet condition? True\n",
            "5st round : compute score for node 9 , remove (39, 9) edge , meet condition? True\n",
            "6st round : compute score for node 13 , remove (38, 32) edge , meet condition? True\n",
            "7st round : compute score for node 21 , remove (28, 15) edge , meet condition? True\n",
            "8st round : compute score for node 38 , remove (39, 30) edge , meet condition? True\n",
            "9st round : compute score for node 14 , remove (36, 21) edge , meet condition? True\n",
            "Success rate =  100%\n",
            "------------------------\n",
            "Graph: rt-retweet\n",
            "------------------------\n",
            "0st round : compute score for node 26 , remove (93, 54) edge , meet condition? True\n",
            "1st round : compute score for node 54 , remove (50, 14) edge , meet condition? True\n",
            "2st round : compute score for node 19 , remove (20, 5) edge , meet condition? True\n",
            "3st round : compute score for node 68 , remove (91, 65) edge , meet condition? True\n",
            "4st round : compute score for node 42 , remove (87, 48) edge , meet condition? True\n",
            "5st round : compute score for node 71 , remove (89, 64) edge , meet condition? True\n",
            "6st round : compute score for node 60 , remove (95, 9) edge , meet condition? True\n",
            "7st round : compute score for node 14 , remove (67, 54) edge , meet condition? True\n",
            "8st round : compute score for node 38 , remove (72, 62) edge , meet condition? True\n",
            "9st round : compute score for node 46 , remove (51, 23) edge , meet condition? True\n",
            "Success rate =  100%\n",
            "------------------------\n",
            "Graph: soc-dolphins\n",
            "------------------------\n",
            "0st round : compute score for node 37 , remove (43, 3) edge , meet condition? True\n",
            "1st round : compute score for node 61 , remove (43, 1) edge , meet condition? True\n",
            "2st round : compute score for node 33 , remove (45, 21) edge , meet condition? True\n",
            "3st round : compute score for node 18 , remove (34, 13) edge , meet condition? True\n",
            "4st round : compute score for node 57 , remove (30, 25) edge , meet condition? True\n",
            "5st round : compute score for node 49 , remove (53, 30) edge , meet condition? True\n",
            "6st round : compute score for node 39 , remove (58, 18) edge , meet condition? True\n",
            "7st round : compute score for node 43 , remove (39, 21) edge , meet condition? True\n",
            "8st round : compute score for node 56 , remove (52, 30) edge , meet condition? True\n",
            "9st round : compute score for node 45 , remove (53, 30) edge , meet condition? True\n",
            "Success rate =  100%\n",
            "------------------------\n"
          ],
          "name": "stdout"
        }
      ]
    },
    {
      "cell_type": "markdown",
      "metadata": {
        "id": "sP2AJnANWK_1"
      },
      "source": [
        "axiom 2 : rank monotonicity"
      ]
    },
    {
      "cell_type": "code",
      "metadata": {
        "id": "M63IhA2qWM7N"
      },
      "source": [
        "def check_rank_monotonicity(G, number_node):\r\n",
        "\r\n",
        "    # test if C(v,G-e)<= C(u,G-e) then C(v,G) <= C(u,G) for 10 random node\r\n",
        "    check_array = [0, 0]\r\n",
        "    for i in range(number_node):\r\n",
        "        random_node = sample(list(G.nodes()),2)\r\n",
        "        removed_edge = choice(list(G.edges()))\r\n",
        "        score_v = count_tree(G, random_node[0])\r\n",
        "        score_u = count_tree(G, random_node[1])\r\n",
        "        G_temp = G.copy()\r\n",
        "        G_temp.remove_edge(*removed_edge)\r\n",
        "        score_v_without = count_tree(G_temp, random_node[0])\r\n",
        "        score_u_without = count_tree(G_temp, random_node[1])\r\n",
        "        check = (score_v_without <= score_u_without and score_v <= score_u) or (score_u_without <= score_v_without and score_u <= score_v)\r\n",
        "        if check:\r\n",
        "            check_array[0] += 1\r\n",
        "        else:\r\n",
        "            check_array[1] += 1\r\n",
        "        print(str(i) + \"st round : compute score for nodes \" + str(random_node) + \" , remove \" + str(\r\n",
        "            removed_edge) + \" edge , meet condition? \" + str(check))\r\n",
        "    print(\"Success rate =  \" + str(round((check_array[0] / (check_array[0] + check_array[1])) * 100)) + \"%\")\r\n"
      ],
      "execution_count": 9,
      "outputs": []
    },
    {
      "cell_type": "markdown",
      "metadata": {
        "id": "cR94pPj7X_5u"
      },
      "source": [
        "test axiom 2"
      ]
    },
    {
      "cell_type": "code",
      "metadata": {
        "id": "_D34wNbeadZ1",
        "outputId": "2e3ed5ba-5e67-4c4a-da9d-4202a8190267",
        "colab": {
          "base_uri": "https://localhost:8080/"
        }
      },
      "source": [
        "number_node = 10\r\n",
        "for key, value in graphs.items():\r\n",
        "  if graphs[key].number_of_nodes()<100 :\r\n",
        "    G = graphs[key]\r\n",
        "    print(\"Graph: {}\".format(key))\r\n",
        "    print(\"------------------------\")\r\n",
        "    check_rank_monotonicity(G,number_node)\r\n",
        "    # print(\"Number of Nodes: {}\".format(G.number_of_nodes()))\r\n",
        "    # print(\"Number of Edges: {}\".format(G.number_of_edges()))\r\n",
        "    print(\"------------------------\")\r\n"
      ],
      "execution_count": 10,
      "outputs": [
        {
          "output_type": "stream",
          "text": [
            "Graph: ca-sandi_auths\n",
            "------------------------\n",
            "0st round : compute score for node [5, 59] , remove (73, 36) edge , meet condition? True\n",
            "1st round : compute score for node [32, 42] , remove (33, 12) edge , meet condition? True\n",
            "2st round : compute score for node [17, 10] , remove (74, 38) edge , meet condition? True\n",
            "3st round : compute score for node [42, 3] , remove (66, 32) edge , meet condition? True\n",
            "4st round : compute score for node [63, 41] , remove (73, 36) edge , meet condition? True\n",
            "5st round : compute score for node [55, 66] , remove (41, 27) edge , meet condition? True\n",
            "6st round : compute score for node [74, 62] , remove (69, 43) edge , meet condition? True\n",
            "7st round : compute score for node [61, 43] , remove (60, 49) edge , meet condition? True\n",
            "8st round : compute score for node [70, 79] , remove (26, 2) edge , meet condition? True\n",
            "9st round : compute score for node [16, 15] , remove (75, 3) edge , meet condition? True\n",
            "Success rate =  100%\n",
            "------------------------\n",
            "Graph: reptilia-tortoise-network-lm\n",
            "------------------------\n",
            "0st round : compute score for node [29, 28] , remove (19, 25) edge , meet condition? True\n",
            "1st round : compute score for node [17, 15] , remove (17, 14) edge , meet condition? True\n",
            "2st round : compute score for node [12, 10] , remove (6, 14) edge , meet condition? True\n",
            "3st round : compute score for node [37, 34] , remove (11, 10) edge , meet condition? True\n",
            "4st round : compute score for node [9, 35] , remove (15, 14) edge , meet condition? True\n",
            "5st round : compute score for node [23, 35] , remove (35, 9) edge , meet condition? False\n",
            "6st round : compute score for node [15, 35] , remove (2, 8) edge , meet condition? True\n",
            "7st round : compute score for node [23, 41] , remove (28, 22) edge , meet condition? True\n",
            "8st round : compute score for node [5, 35] , remove (3, 5) edge , meet condition? True\n",
            "9st round : compute score for node [40, 23] , remove (16, 21) edge , meet condition? True\n",
            "Success rate =  90%\n",
            "------------------------\n",
            "Graph: road-chesapeake\n",
            "------------------------\n",
            "0st round : compute score for node [7, 27] , remove (39, 28) edge , meet condition? True\n",
            "1st round : compute score for node [17, 10] , remove (38, 24) edge , meet condition? True\n",
            "2st round : compute score for node [23, 31] , remove (36, 15) edge , meet condition? True\n",
            "3st round : compute score for node [35, 5] , remove (36, 15) edge , meet condition? True\n",
            "4st round : compute score for node [35, 23] , remove (36, 18) edge , meet condition? True\n",
            "5st round : compute score for node [28, 4] , remove (11, 7) edge , meet condition? True\n",
            "6st round : compute score for node [20, 5] , remove (36, 12) edge , meet condition? True\n",
            "7st round : compute score for node [7, 4] , remove (39, 18) edge , meet condition? True\n",
            "8st round : compute score for node [16, 33] , remove (35, 10) edge , meet condition? True\n",
            "9st round : compute score for node [16, 33] , remove (39, 17) edge , meet condition? True\n",
            "Success rate =  100%\n",
            "------------------------\n",
            "Graph: rt-retweet\n",
            "------------------------\n",
            "0st round : compute score for node [67, 1] , remove (93, 28) edge , meet condition? True\n",
            "1st round : compute score for node [60, 7] , remove (72, 8) edge , meet condition? True\n",
            "2st round : compute score for node [67, 91] , remove (84, 18) edge , meet condition? True\n",
            "3st round : compute score for node [77, 81] , remove (20, 5) edge , meet condition? True\n",
            "4st round : compute score for node [4, 95] , remove (72, 8) edge , meet condition? True\n",
            "5st round : compute score for node [62, 3] , remove (28, 25) edge , meet condition? True\n",
            "6st round : compute score for node [82, 15] , remove (89, 86) edge , meet condition? True\n",
            "7st round : compute score for node [60, 92] , remove (6, 1) edge , meet condition? True\n",
            "8st round : compute score for node [49, 5] , remove (45, 6) edge , meet condition? True\n",
            "9st round : compute score for node [4, 64] , remove (72, 69) edge , meet condition? True\n",
            "Success rate =  100%\n",
            "------------------------\n",
            "Graph: soc-dolphins\n",
            "------------------------\n",
            "0st round : compute score for node [17, 16] , remove (25, 16) edge , meet condition? True\n",
            "1st round : compute score for node [3, 38] , remove (43, 3) edge , meet condition? True\n",
            "2st round : compute score for node [10, 6] , remove (41, 15) edge , meet condition? True\n",
            "3st round : compute score for node [20, 2] , remove (51, 46) edge , meet condition? True\n",
            "4st round : compute score for node [21, 8] , remove (46, 25) edge , meet condition? True\n",
            "5st round : compute score for node [3, 21] , remove (15, 1) edge , meet condition? True\n",
            "6st round : compute score for node [26, 15] , remove (14, 7) edge , meet condition? True\n",
            "7st round : compute score for node [33, 50] , remove (61, 33) edge , meet condition? True\n",
            "8st round : compute score for node [22, 18] , remove (27, 2) edge , meet condition? True\n",
            "9st round : compute score for node [54, 12] , remove (52, 5) edge , meet condition? True\n",
            "Success rate =  100%\n",
            "------------------------\n"
          ],
          "name": "stdout"
        }
      ]
    }
  ]
}