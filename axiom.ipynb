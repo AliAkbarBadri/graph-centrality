{
  "nbformat": 4,
  "nbformat_minor": 0,
  "metadata": {
    "colab": {
      "name": "axiom.ipynb",
      "provenance": [],
      "include_colab_link": true
    },
    "kernelspec": {
      "name": "python3",
      "display_name": "Python 3"
    }
  },
  "cells": [
    {
      "cell_type": "markdown",
      "metadata": {
        "id": "view-in-github",
        "colab_type": "text"
      },
      "source": [
        "<a href=\"https://colab.research.google.com/github/AliAkbarBadri/graph-centrality/blob/main/axiom.ipynb\" target=\"_parent\"><img src=\"https://colab.research.google.com/assets/colab-badge.svg\" alt=\"Open In Colab\"/></a>"
      ]
    },
    {
      "cell_type": "markdown",
      "metadata": {
        "id": "DvhuMQMUJK-z"
      },
      "source": [
        "# **Prerequisite**"
      ]
    },
    {
      "cell_type": "code",
      "metadata": {
        "id": "e7YcL2mMSU4R"
      },
      "source": [
        "import networkx as nx\r\n",
        "import pandas as pd\r\n",
        "import glob\r\n",
        "import time\r\n",
        "import numpy as np\r\n",
        "from random import *\r\n"
      ],
      "execution_count": 1,
      "outputs": []
    },
    {
      "cell_type": "code",
      "metadata": {
        "id": "Iu3x2O9TTyXE",
        "colab": {
          "base_uri": "https://localhost:8080/"
        },
        "outputId": "5390ceaa-30b5-4531-8fe2-ed7bd68ba57a"
      },
      "source": [
        "\r\n",
        "def count_subgraph(G, v):\r\n",
        "  neighbours = G.edges(v)\r\n",
        "  if len(neighbours) == 0:\r\n",
        "    return 1\r\n",
        "  else:\r\n",
        "    for e in neighbours:\r\n",
        "      G_temp = G.copy()\r\n",
        "      G_temp.remove_edge(*e)\r\n",
        "      a = count_subgraph(G_temp, v)\r\n",
        "      b = (2**G.number_of_edges(*e) - 1)*count_subgraph(nx.contracted_edge(G, e, self_loops=False), e[0])\r\n",
        "      return a + b\r\n",
        "def count_tree(T, v):\r\n",
        "  neighbours = T.edges(v)\r\n",
        "  if len(neighbours) == 0:\r\n",
        "    return 1\r\n",
        "  else:\r\n",
        "    for e in neighbours:\r\n",
        "      T_temp = T.copy()\r\n",
        "      T_temp.remove_edge(*e)\r\n",
        "      return count_tree(T_temp, v) * (count_tree(T_temp,e[1]) + 1)\r\n",
        "\r\n",
        "! curl -L https://api.github.com/repos/AliAkbarBadri/graph-centrality/tarball --output repo.tar\r\n",
        "! tar xf repo.tar --wildcards \"*/data/*.csv\" --strip-components=1\r\n",
        "! rm -rf repo.tar\r\n",
        "\r\n",
        "def create_graph_from_csv(dir_name:str) -> dict:\r\n",
        "  graphs = {}\r\n",
        "  for file_name in sorted(glob.glob(dir_name+'/*.csv')):\r\n",
        "    df = pd.read_csv(file_name,header=None,names=['src', 'dest'])\r\n",
        "    G = nx.from_pandas_edgelist(df,source=\"src\",target=\"dest\", create_using=nx.DiGraph())\r\n",
        "    dataset_name = file_name.split(\"/\")[1].split(\".csv\")[0]\r\n",
        "    print(dataset_name, G.number_of_nodes(), G.number_of_edges())\r\n",
        "    graphs[dataset_name] = G\r\n",
        "  return graphs\r\n",
        "\r\n",
        "graphs = create_graph_from_csv(dir_name=\"data\")\r\n",
        "\r\n",
        "  "
      ],
      "execution_count": 2,
      "outputs": [
        {
          "output_type": "stream",
          "text": [
            "  % Total    % Received % Xferd  Average Speed   Time    Time     Time  Current\n",
            "                                 Dload  Upload   Total   Spent    Left  Speed\n",
            "  0     0    0     0    0     0      0      0 --:--:-- --:--:-- --:--:--     0\n",
            "100  457k    0  457k    0     0  1103k      0 --:--:-- --:--:-- --:--:-- 1103k\n",
            "ENZYMES_g297 121 298\n",
            "aves-songbird-social 110 1027\n",
            "bn-mouse_visual-cortex_1 29 44\n",
            "bn-mouse_visual-cortex_2 193 214\n",
            "ca-sandi_auths 86 124\n",
            "email-dnc-corecipient 906 12085\n",
            "email-enron-only 143 623\n",
            "facebook-socfb-Amherst41 2235 90953\n",
            "insecta-ant-colony1-day01 113 4550\n",
            "reptilia-tortoise-network-lm 45 106\n",
            "road-chesapeake 39 170\n",
            "rt-retweet 96 117\n",
            "soc-dolphins 62 159\n",
            "soc-wiki-Vote 889 2914\n",
            "web-edu 3031 6474\n",
            "web-polblogs 643 2280\n",
            "web-spam 4767 37375\n"
          ],
          "name": "stdout"
        }
      ]
    },
    {
      "cell_type": "markdown",
      "metadata": {
        "id": "fcddISmN0cuS"
      },
      "source": [
        "# **AXIOM 1**"
      ]
    },
    {
      "cell_type": "markdown",
      "metadata": {
        "id": "Y40KSzoBQxvd"
      },
      "source": [
        "axiom 1 :monotonicity : tree centrality"
      ]
    },
    {
      "cell_type": "code",
      "metadata": {
        "id": "TGlPBR3dRPMH"
      },
      "source": [
        "def check_monotonicity_tree(G, number_node):\r\n",
        "    # axiom 1 : monotonicity\r\n",
        "    # test C(v,G-e) <= C(v,G) for 10 random node\r\n",
        "    check_array = [0, 0]\r\n",
        "    for i in range(number_node):\r\n",
        "        random_node = choice(list(G.nodes()))\r\n",
        "        removed_edge = choice(list(G.edges()))\r\n",
        "        score_v = count_tree(G, random_node)\r\n",
        "        G_temp = G.copy()\r\n",
        "        G_temp.remove_edge(*removed_edge)\r\n",
        "        score_v_without = count_tree(G_temp, random_node)\r\n",
        "        check = score_v_without <= score_v\r\n",
        "        if check:\r\n",
        "            check_array[0] += 1\r\n",
        "        else:\r\n",
        "            check_array[1] += 1\r\n",
        "        # print(str(i) + \"st round : compute score for node \" + str(random_node) + \" , remove \" + str(\r\n",
        "        #     removed_edge) + \" edge , meet condition? \" + str(check))\r\n",
        "    print(\"Success rate tree centrality =  \" + str(round((check_array[0] / (check_array[0] + check_array[1])) * 100)) + \"%\")\r\n"
      ],
      "execution_count": null,
      "outputs": []
    },
    {
      "cell_type": "markdown",
      "metadata": {
        "id": "0zvAMmnz1Lsw"
      },
      "source": [
        "axiom 1 :monotonicity : subgraph centrality"
      ]
    },
    {
      "cell_type": "code",
      "metadata": {
        "id": "9ZaHOjic1Qg3"
      },
      "source": [
        "def check_monotonicity_subgraph(G, number_node):\r\n",
        "    # axiom 1 : monotonicity\r\n",
        "    # test C(v,G-e) <= C(v,G) for 10 random node\r\n",
        "    check_array = [0, 0]\r\n",
        "    for i in range(number_node):\r\n",
        "        random_node = choice(list(G.nodes()))\r\n",
        "        removed_edge = choice(list(G.edges()))\r\n",
        "        score_v = count_subgraph(G, random_node)\r\n",
        "        G_temp = G.copy()\r\n",
        "        G_temp.remove_edge(*removed_edge)\r\n",
        "        score_v_without = count_tree(G_temp, random_node)\r\n",
        "        check = score_v_without <= score_v\r\n",
        "        if check:\r\n",
        "            check_array[0] += 1\r\n",
        "        else:\r\n",
        "            check_array[1] += 1\r\n",
        "        # print(str(i) + \"st round : compute score for node \" + str(random_node) + \" , remove \" + str(\r\n",
        "            # removed_edge) + \" edge , meet condition? \" + str(check))\r\n",
        "    print(\"Success rate subgraph centrality =  \" + str(round((check_array[0] / (check_array[0] + check_array[1])) * 100)) + \"%\")\r\n"
      ],
      "execution_count": null,
      "outputs": []
    },
    {
      "cell_type": "markdown",
      "metadata": {
        "id": "bVu8VdG_RImg"
      },
      "source": [
        "test axiom 1"
      ]
    },
    {
      "cell_type": "code",
      "metadata": {
        "colab": {
          "base_uri": "https://localhost:8080/"
        },
        "id": "PWQS7Uk_Q2cs",
        "outputId": "ed7f9e7a-76da-4714-c93a-6b9759fb4e20"
      },
      "source": [
        "number_node = 10\r\n",
        "for key, value in graphs.items():\r\n",
        "  if graphs[key].number_of_nodes()<50 :\r\n",
        "    G = graphs[key]\r\n",
        "    print(\"Graph: {}\".format(key))\r\n",
        "    print(\"-----------\")\r\n",
        "    check_monotonicity_tree(G,number_node)\r\n",
        "    check_monotonicity_subgraph(G,number_node)\r\n",
        "    print(\"------------------------\")\r\n"
      ],
      "execution_count": null,
      "outputs": [
        {
          "output_type": "stream",
          "text": [
            "Graph: bn-mouse_visual-cortex_1\n",
            "-----------\n",
            "Success rate tree centrality =  100%\n",
            "Success rate subgraph centrality =  100%\n",
            "------------------------\n",
            "Graph: reptilia-tortoise-network-lm\n",
            "-----------\n",
            "Success rate tree centrality =  100%\n",
            "Success rate subgraph centrality =  20%\n",
            "------------------------\n",
            "Graph: road-chesapeake\n",
            "-----------\n",
            "Success rate tree centrality =  100%\n"
          ],
          "name": "stdout"
        }
      ]
    },
    {
      "cell_type": "markdown",
      "metadata": {
        "id": "SwFVHEY40Wwn"
      },
      "source": [
        "# **AXIOM 2**"
      ]
    },
    {
      "cell_type": "markdown",
      "metadata": {
        "id": "sP2AJnANWK_1"
      },
      "source": [
        "axiom 2 : rank monotonicity : tree centrality"
      ]
    },
    {
      "cell_type": "code",
      "metadata": {
        "id": "M63IhA2qWM7N"
      },
      "source": [
        "def check_rank_monotonicity_tree(G, number_node):\r\n",
        "    # test if C(v,G-e)<= C(u,G-e) then C(v,G) <= C(u,G) for 10 random node\r\n",
        "    check_array = [0, 0]\r\n",
        "    for i in range(number_node):\r\n",
        "        random_node = sample(list(G.nodes()),2)\r\n",
        "        removed_edge = choice(list(G.edges()))\r\n",
        "        score_v = count_tree(G, random_node[0])\r\n",
        "        score_u = count_tree(G, random_node[1])\r\n",
        "        G_temp = G.copy()\r\n",
        "        G_temp.remove_edge(*removed_edge)\r\n",
        "        score_v_without = count_tree(G_temp, random_node[0])\r\n",
        "        score_u_without = count_tree(G_temp, random_node[1])\r\n",
        "        check = (score_v_without <= score_u_without and score_v <= score_u) or (score_u_without <= score_v_without and score_u <= score_v)\r\n",
        "        if check:\r\n",
        "            check_array[0] += 1\r\n",
        "        else:\r\n",
        "            check_array[1] += 1\r\n",
        "        # print(str(i) + \"st round : compute score for nodes \" + str(random_node) + \" , remove \" + str(\r\n",
        "        #     removed_edge) + \" edge , meet condition? \" + str(check))\r\n",
        "    print(\"Success rate tree centrality =  \" + str(round((check_array[0] / (check_array[0] + check_array[1])) * 100)) + \"%\")\r\n"
      ],
      "execution_count": null,
      "outputs": []
    },
    {
      "cell_type": "markdown",
      "metadata": {
        "id": "L0pAvf5Y2XhS"
      },
      "source": [
        "axiom 2 : rank monotonicity : subgraph centrality"
      ]
    },
    {
      "cell_type": "code",
      "metadata": {
        "id": "ogxHyJSb2YSx"
      },
      "source": [
        "def check_rank_monotonicity_subgraph(G, number_node):\r\n",
        "    # test if C(v,G-e)<= C(u,G-e) then C(v,G) <= C(u,G) for 10 random node\r\n",
        "    check_array = [0, 0]\r\n",
        "    for i in range(number_node):\r\n",
        "        random_node = sample(list(G.nodes()),2)\r\n",
        "        removed_edge = choice(list(G.edges()))\r\n",
        "        score_v = count_subgraph(G, random_node[0])\r\n",
        "        score_u = count_subgraph(G, random_node[1])\r\n",
        "        G_temp = G.copy()\r\n",
        "        G_temp.remove_edge(*removed_edge)\r\n",
        "        score_v_without = count_subgraph(G_temp, random_node[0])\r\n",
        "        score_u_without = count_subgraph(G_temp, random_node[1])\r\n",
        "        check = (score_v_without <= score_u_without and score_v <= score_u) or (score_u_without <= score_v_without and score_u <= score_v)\r\n",
        "        if check:\r\n",
        "            check_array[0] += 1\r\n",
        "        else:\r\n",
        "            check_array[1] += 1\r\n",
        "        # print(str(i) + \"st round : compute score for nodes \" + str(random_node) + \" , remove \" + str(\r\n",
        "        #     removed_edge) + \" edge , meet condition? \" + str(check))\r\n",
        "    print(\"Success rate subgraph centrality =  \" + str(round((check_array[0] / (check_array[0] + check_array[1])) * 100)) + \"%\")\r\n"
      ],
      "execution_count": null,
      "outputs": []
    },
    {
      "cell_type": "markdown",
      "metadata": {
        "id": "cR94pPj7X_5u"
      },
      "source": [
        "test axiom 2"
      ]
    },
    {
      "cell_type": "code",
      "metadata": {
        "colab": {
          "base_uri": "https://localhost:8080/"
        },
        "id": "_D34wNbeadZ1",
        "outputId": "e01fac95-130a-4337-faff-6d56fe1d165c"
      },
      "source": [
        "number_node = 10\r\n",
        "for key, value in graphs.items():\r\n",
        "  if graphs[key].number_of_nodes()<50 :\r\n",
        "    G = graphs[key]\r\n",
        "    print(\"Graph: {}\".format(key))\r\n",
        "    print(\"-------------\")\r\n",
        "    check_rank_monotonicity_tree(G,number_node)\r\n",
        "    check_rank_monotonicity_subgraph(G,number_node)\r\n",
        "    print(\"------------------------\")\r\n"
      ],
      "execution_count": null,
      "outputs": [
        {
          "output_type": "stream",
          "text": [
            "Graph: bn-mouse_visual-cortex_1\n",
            "-------------\n",
            "Success rate tree centrality =  100%\n",
            "Success rate subgraph centrality =  100%\n",
            "------------------------\n",
            "Graph: reptilia-tortoise-network-lm\n",
            "-------------\n",
            "Success rate tree centrality =  100%\n",
            "Success rate subgraph centrality =  100%\n",
            "------------------------\n",
            "Graph: road-chesapeake\n",
            "-------------\n",
            "Success rate tree centrality =  100%\n",
            "Success rate subgraph centrality =  100%\n",
            "------------------------\n"
          ],
          "name": "stdout"
        }
      ]
    },
    {
      "cell_type": "markdown",
      "metadata": {
        "id": "Lq7VZ5H70EuH"
      },
      "source": [
        "# **AXIOM 3**"
      ]
    },
    {
      "cell_type": "markdown",
      "metadata": {
        "id": "ZUrTBLlBbW22"
      },
      "source": [
        "axiom 3 : line minimization : tree centrality"
      ]
    },
    {
      "cell_type": "code",
      "metadata": {
        "id": "u2Vgchmwba1S"
      },
      "source": [
        "def check_line_minimization_tree(G, number_node):\r\n",
        "    # test C(0,Ln) <= C(v,G) for 10 random node\r\n",
        "    check_array = [0, 0]\r\n",
        "    G.remove_nodes_from(list(nx.isolates(G)))\r\n",
        "    for i in range(number_node):\r\n",
        "        random_node = choice(list(G.nodes()))\r\n",
        "        score_v = count_tree(G, random_node)\r\n",
        "        line = nx.path_graph(G.number_of_nodes())\r\n",
        "        score_line = count_tree(line,0)\r\n",
        "        check = score_line <= score_v\r\n",
        "        if check:\r\n",
        "            check_array[0] += 1\r\n",
        "        else:\r\n",
        "            check_array[1] += 1\r\n",
        "        # print(str(i) + \"st round : compute score for node \" + str(random_node) +\" meet condition? \" + str(check))\r\n",
        "    rate = round((check_array[0] / (check_array[0] + check_array[1])) * 100)\r\n",
        "    print(\"Success rate tree centrality =  \" + str(rate) + \"%\")\r\n",
        "    return rate\r\n"
      ],
      "execution_count": null,
      "outputs": []
    },
    {
      "cell_type": "markdown",
      "metadata": {
        "id": "ajxGdp6q45iz"
      },
      "source": [
        "axiom 3 : line minimization : subgraph centrality"
      ]
    },
    {
      "cell_type": "code",
      "metadata": {
        "id": "MRROS4hl47z5"
      },
      "source": [
        "def check_line_minimization_subgraph(G, number_node):\r\n",
        "    # test C(0,Ln) <= C(v,G) for 10 random node\r\n",
        "    check_array = [0, 0]\r\n",
        "    G.remove_nodes_from(list(nx.isolates(G)))\r\n",
        "    for i in range(number_node):\r\n",
        "        random_node = choice(list(G.nodes()))\r\n",
        "        score_v = count_subgraph(G, random_node)\r\n",
        "        line = nx.path_graph(G.number_of_nodes())\r\n",
        "        score_line = count_subgraph(line,0)\r\n",
        "        check = score_line <= score_v\r\n",
        "        if check:\r\n",
        "            check_array[0] += 1\r\n",
        "        else:\r\n",
        "            check_array[1] += 1\r\n",
        "        # print(str(i) + \"st round : compute score for node \" + str(random_node) +\" meet condition? \" + str(check))\r\n",
        "    rate = round((check_array[0] / (check_array[0] + check_array[1])) * 100)\r\n",
        "    print(\"Success rate subgraph centrality =  \" + str(rate) + \"%\")\r\n",
        "    return rate"
      ],
      "execution_count": null,
      "outputs": []
    },
    {
      "cell_type": "markdown",
      "metadata": {
        "id": "uBv2kgTXcPiC"
      },
      "source": [
        "test axiom 3"
      ]
    },
    {
      "cell_type": "code",
      "metadata": {
        "colab": {
          "base_uri": "https://localhost:8080/"
        },
        "id": "6GM0S-F-cSeD",
        "outputId": "b90405d2-e915-4aed-8011-a82dbf7b2943"
      },
      "source": [
        "number_node = 10\r\n",
        "for key, value in graphs.items():\r\n",
        "  if graphs[key].number_of_nodes()<50 :\r\n",
        "    G = graphs[key]\r\n",
        "    print(\"Graph: {}\".format(key))\r\n",
        "    print(\"-------------\")\r\n",
        "    check_line_minimization_tree(G,number_node)\r\n",
        "    check_line_minimization_subgraph(G,number_node)\r\n",
        "    print(\"------------------------\")\r\n"
      ],
      "execution_count": null,
      "outputs": [
        {
          "output_type": "stream",
          "text": [
            "Graph: bn-mouse_visual-cortex_1\n",
            "-------------\n",
            "Success rate tree centrality =  20%\n",
            "Success rate subgraph centrality =  50%\n",
            "------------------------\n",
            "Graph: reptilia-tortoise-network-lm\n",
            "-------------\n",
            "Success rate tree centrality =  40%\n",
            "Success rate subgraph centrality =  30%\n",
            "------------------------\n",
            "Graph: road-chesapeake\n",
            "-------------\n",
            "Success rate tree centrality =  80%\n"
          ],
          "name": "stdout"
        }
      ]
    },
    {
      "cell_type": "markdown",
      "metadata": {
        "id": "KSECflRZ-zE1"
      },
      "source": [
        "# **AXIOM 4**"
      ]
    },
    {
      "cell_type": "markdown",
      "metadata": {
        "id": "3cgSeMJo3PzV"
      },
      "source": [
        "axiom 4 : continuity : tree centrality"
      ]
    },
    {
      "cell_type": "code",
      "metadata": {
        "id": "TAY201_Z3cYm"
      },
      "source": [
        "def check_continuity_tree(v,H,G):\r\n",
        "  check_array = [0, 0]\r\n",
        "  check = False\r\n",
        "  G1 = H\r\n",
        "  edges = G.edges()\r\n",
        "  list_edges = []\r\n",
        "  G1_edges = G1.edges()\r\n",
        "  edges = edges - G1_edges\r\n",
        "  tree_G = count_tree(G,v)\r\n",
        "  for edge in edges :\r\n",
        "    G1_temp= G1\r\n",
        "    G1_temp.add_edge(edge)\r\n",
        "    tree_G1 = count_tree(G1,v)\r\n",
        "    tree_G1_temp = count_tree(G1_temp,v)\r\n",
        "    if tree_G1 < tree_G1_temp :\r\n",
        "      list_edges.append(edge)\r\n",
        "      G1 = G1_temp\r\n",
        "      if tree_G1_temp == tree_G :\r\n",
        "        print (\"find sequence edge!\", list_edges)\r\n",
        "        check_array[0]+=1\r\n",
        "        check = True\r\n",
        "  if check == False : check_array[1]+=1\r\n",
        "  return check_array\r\n",
        "\r\n",
        "\r\n"
      ],
      "execution_count": 3,
      "outputs": []
    },
    {
      "cell_type": "markdown",
      "metadata": {
        "id": "enyCy4VzQp2u"
      },
      "source": [
        "axiom 4 : continuity : subgraph centrality"
      ]
    },
    {
      "cell_type": "code",
      "metadata": {
        "id": "Mmf8fGjo3vrY",
        "colab": {
          "base_uri": "https://localhost:8080/",
          "height": 398
        },
        "outputId": "5860ba9f-0fc3-4ad7-cf79-5b7d67ef14c4"
      },
      "source": [
        "G = graphs['bn-mouse_visual-cortex_1']\r\n",
        "G_temp = G\r\n",
        "check_array = [0, 0]\r\n",
        "for k in range(G.number_of_nodes()):\r\n",
        "  nodes = []\r\n",
        "  for i in range(G.number_of_nodes()):\r\n",
        "    if i < k :\r\n",
        "      nodes.append(i+1)\r\n",
        "  G1 = G.subgraph(nodes)\r\n",
        "  for i in range(1,G1.number_of_nodes()):\r\n",
        "    if (count_tree(G1,i)<count_tree(G,i)): \r\n",
        "      print(\"condition match\")\r\n",
        "      G1_temp = G1\r\n",
        "      check_array += check_continuity_tree(i,G1_temp,G_temp)\r\n",
        "rate = round((check_array[0] / (check_array[0] + check_array[1])) * 100)\r\n",
        "print(\"Success rate tree centrality =  \" + str(rate) + \"%\")"
      ],
      "execution_count": 7,
      "outputs": [
        {
          "output_type": "stream",
          "text": [
            "condition match\n"
          ],
          "name": "stdout"
        },
        {
          "output_type": "error",
          "ename": "NetworkXError",
          "evalue": "ignored",
          "traceback": [
            "\u001b[0;31m---------------------------------------------------------------------------\u001b[0m",
            "\u001b[0;31mNetworkXError\u001b[0m                             Traceback (most recent call last)",
            "\u001b[0;32m<ipython-input-7-ce45d94955c6>\u001b[0m in \u001b[0;36m<module>\u001b[0;34m()\u001b[0m\n\u001b[1;32m     12\u001b[0m       \u001b[0mprint\u001b[0m\u001b[0;34m(\u001b[0m\u001b[0;34m\"condition match\"\u001b[0m\u001b[0;34m)\u001b[0m\u001b[0;34m\u001b[0m\u001b[0;34m\u001b[0m\u001b[0m\n\u001b[1;32m     13\u001b[0m       \u001b[0mG1_temp\u001b[0m \u001b[0;34m=\u001b[0m \u001b[0mG1\u001b[0m\u001b[0;34m\u001b[0m\u001b[0;34m\u001b[0m\u001b[0m\n\u001b[0;32m---> 14\u001b[0;31m       \u001b[0mcheck_array\u001b[0m \u001b[0;34m+=\u001b[0m \u001b[0mcheck_continuity_tree\u001b[0m\u001b[0;34m(\u001b[0m\u001b[0mi\u001b[0m\u001b[0;34m,\u001b[0m\u001b[0mG1_temp\u001b[0m\u001b[0;34m,\u001b[0m\u001b[0mG_temp\u001b[0m\u001b[0;34m)\u001b[0m\u001b[0;34m\u001b[0m\u001b[0;34m\u001b[0m\u001b[0m\n\u001b[0m\u001b[1;32m     15\u001b[0m \u001b[0mrate\u001b[0m \u001b[0;34m=\u001b[0m \u001b[0mround\u001b[0m\u001b[0;34m(\u001b[0m\u001b[0;34m(\u001b[0m\u001b[0mcheck_array\u001b[0m\u001b[0;34m[\u001b[0m\u001b[0;36m0\u001b[0m\u001b[0;34m]\u001b[0m \u001b[0;34m/\u001b[0m \u001b[0;34m(\u001b[0m\u001b[0mcheck_array\u001b[0m\u001b[0;34m[\u001b[0m\u001b[0;36m0\u001b[0m\u001b[0;34m]\u001b[0m \u001b[0;34m+\u001b[0m \u001b[0mcheck_array\u001b[0m\u001b[0;34m[\u001b[0m\u001b[0;36m1\u001b[0m\u001b[0;34m]\u001b[0m\u001b[0;34m)\u001b[0m\u001b[0;34m)\u001b[0m \u001b[0;34m*\u001b[0m \u001b[0;36m100\u001b[0m\u001b[0;34m)\u001b[0m\u001b[0;34m\u001b[0m\u001b[0;34m\u001b[0m\u001b[0m\n\u001b[1;32m     16\u001b[0m \u001b[0mprint\u001b[0m\u001b[0;34m(\u001b[0m\u001b[0;34m\"Success rate tree centrality =  \"\u001b[0m \u001b[0;34m+\u001b[0m \u001b[0mstr\u001b[0m\u001b[0;34m(\u001b[0m\u001b[0mrate\u001b[0m\u001b[0;34m)\u001b[0m \u001b[0;34m+\u001b[0m \u001b[0;34m\"%\"\u001b[0m\u001b[0;34m)\u001b[0m\u001b[0;34m\u001b[0m\u001b[0;34m\u001b[0m\u001b[0m\n",
            "\u001b[0;32m<ipython-input-3-d339dff67497>\u001b[0m in \u001b[0;36mcheck_continuity_tree\u001b[0;34m(v, H, G)\u001b[0m\n\u001b[1;32m     10\u001b[0m   \u001b[0;32mfor\u001b[0m \u001b[0medge\u001b[0m \u001b[0;32min\u001b[0m \u001b[0medges\u001b[0m \u001b[0;34m:\u001b[0m\u001b[0;34m\u001b[0m\u001b[0;34m\u001b[0m\u001b[0m\n\u001b[1;32m     11\u001b[0m     \u001b[0mG1_temp\u001b[0m\u001b[0;34m=\u001b[0m \u001b[0mG1\u001b[0m\u001b[0;34m\u001b[0m\u001b[0;34m\u001b[0m\u001b[0m\n\u001b[0;32m---> 12\u001b[0;31m     \u001b[0mG1_temp\u001b[0m\u001b[0;34m.\u001b[0m\u001b[0madd_edge\u001b[0m\u001b[0;34m(\u001b[0m\u001b[0medge\u001b[0m\u001b[0;34m)\u001b[0m\u001b[0;34m\u001b[0m\u001b[0;34m\u001b[0m\u001b[0m\n\u001b[0m\u001b[1;32m     13\u001b[0m     \u001b[0mtree_G1\u001b[0m \u001b[0;34m=\u001b[0m \u001b[0mcount_tree\u001b[0m\u001b[0;34m(\u001b[0m\u001b[0mG1\u001b[0m\u001b[0;34m,\u001b[0m\u001b[0mv\u001b[0m\u001b[0;34m)\u001b[0m\u001b[0;34m\u001b[0m\u001b[0;34m\u001b[0m\u001b[0m\n\u001b[1;32m     14\u001b[0m     \u001b[0mtree_G1_temp\u001b[0m \u001b[0;34m=\u001b[0m \u001b[0mcount_tree\u001b[0m\u001b[0;34m(\u001b[0m\u001b[0mG1_temp\u001b[0m\u001b[0;34m,\u001b[0m\u001b[0mv\u001b[0m\u001b[0;34m)\u001b[0m\u001b[0;34m\u001b[0m\u001b[0;34m\u001b[0m\u001b[0m\n",
            "\u001b[0;32m/usr/local/lib/python3.6/dist-packages/networkx/classes/function.py\u001b[0m in \u001b[0;36mfrozen\u001b[0;34m(*args, **kwargs)\u001b[0m\n\u001b[1;32m    156\u001b[0m \u001b[0;32mdef\u001b[0m \u001b[0mfrozen\u001b[0m\u001b[0;34m(\u001b[0m\u001b[0;34m*\u001b[0m\u001b[0margs\u001b[0m\u001b[0;34m,\u001b[0m \u001b[0;34m**\u001b[0m\u001b[0mkwargs\u001b[0m\u001b[0;34m)\u001b[0m\u001b[0;34m:\u001b[0m\u001b[0;34m\u001b[0m\u001b[0;34m\u001b[0m\u001b[0m\n\u001b[1;32m    157\u001b[0m     \u001b[0;34m\"\"\"Dummy method for raising errors when trying to modify frozen graphs\"\"\"\u001b[0m\u001b[0;34m\u001b[0m\u001b[0;34m\u001b[0m\u001b[0m\n\u001b[0;32m--> 158\u001b[0;31m     \u001b[0;32mraise\u001b[0m \u001b[0mnx\u001b[0m\u001b[0;34m.\u001b[0m\u001b[0mNetworkXError\u001b[0m\u001b[0;34m(\u001b[0m\u001b[0;34m\"Frozen graph can't be modified\"\u001b[0m\u001b[0;34m)\u001b[0m\u001b[0;34m\u001b[0m\u001b[0;34m\u001b[0m\u001b[0m\n\u001b[0m\u001b[1;32m    159\u001b[0m \u001b[0;34m\u001b[0m\u001b[0m\n\u001b[1;32m    160\u001b[0m \u001b[0;34m\u001b[0m\u001b[0m\n",
            "\u001b[0;31mNetworkXError\u001b[0m: Frozen graph can't be modified"
          ]
        }
      ]
    },
    {
      "cell_type": "markdown",
      "metadata": {
        "id": "KGlWtI1Yncs6"
      },
      "source": [
        "# **Axiom 5**"
      ]
    },
    {
      "cell_type": "markdown",
      "metadata": {
        "id": "pigxqAJBniRV"
      },
      "source": [
        "axiom 5 : size : tree centrality"
      ]
    },
    {
      "cell_type": "code",
      "metadata": {
        "id": "moGHxBLKnu9Y"
      },
      "source": [
        "def check_size_tree(G, number_n):\r\n",
        "    # test N <= C(0,G) for 10 random N \r\n",
        "    check_array = [0, 0]\r\n",
        "    check = False\r\n",
        "    G.remove_nodes_from(list(nx.isolates(G)))\r\n",
        "    for i in range(number_n):\r\n",
        "        random_n = randint(0,G.number_of_edges())\r\n",
        "        for node in list(G.nodes()):\r\n",
        "          score_v = count_tree(G, node)\r\n",
        "          if score_v > random_n : check = True\r\n",
        "          if check : break\r\n",
        "        if check : check_array[0]+=1\r\n",
        "        else : check_array[1]+=1\r\n",
        "        # print(str(i) + \"st round : compute score for n \" + str(random_n) +\" meet condition? \" + str(check))\r\n",
        "    rate = round((check_array[0] / (check_array[0] + check_array[1])) * 100)\r\n",
        "    print(\"Success rate tree centrality =  \" + str(rate) + \"%\")\r\n",
        "    return rate"
      ],
      "execution_count": null,
      "outputs": []
    },
    {
      "cell_type": "markdown",
      "metadata": {
        "id": "cdgKvfB1nvZu"
      },
      "source": [
        "axiom 5 : size : subgraph centrality"
      ]
    },
    {
      "cell_type": "code",
      "metadata": {
        "id": "DqiX4hbFnzVj"
      },
      "source": [
        "def check_size_subgraph(G, number_n):\r\n",
        "    # test N <= C(0,G) for 10 random N \r\n",
        "    check_array = [0, 0]\r\n",
        "    check = False\r\n",
        "    G.remove_nodes_from(list(nx.isolates(G)))\r\n",
        "    for i in range(number_n):\r\n",
        "        random_n = randint(0,G.number_of_edges())\r\n",
        "        for node in list(G.nodes()):\r\n",
        "          score_v = count_subgraph(G, node)\r\n",
        "          if score_v > random_n : check = True\r\n",
        "          if check : break\r\n",
        "        if check : check_array[0]+=1\r\n",
        "        else : check_array[1]+=1\r\n",
        "        # print(str(i) + \"st round : compute score for n \" + str(random_n) +\" meet condition? \" + str(check))\r\n",
        "    rate = round((check_array[0] / (check_array[0] + check_array[1])) * 100)\r\n",
        "    print(\"Success rate subgraph centrality =  \" + str(rate) + \"%\")\r\n",
        "    return rate"
      ],
      "execution_count": null,
      "outputs": []
    },
    {
      "cell_type": "markdown",
      "metadata": {
        "id": "ESfOniM_nzzL"
      },
      "source": [
        "test axiom 5"
      ]
    },
    {
      "cell_type": "code",
      "metadata": {
        "id": "rczQ_TXLn2dh",
        "colab": {
          "base_uri": "https://localhost:8080/"
        },
        "outputId": "59aab7e9-3c26-42e9-e883-49f159557470"
      },
      "source": [
        "number_n = 10\r\n",
        "for key, value in graphs.items():\r\n",
        "  if graphs[key].number_of_nodes()<50 :\r\n",
        "    G = graphs[key]\r\n",
        "    print(\"Graph: {}\".format(key))\r\n",
        "    print(\"-------------\")\r\n",
        "    check_size_tree(G,number_n)\r\n",
        "    check_size_subgraph(G,number_node)\r\n",
        "    print(\"------------------------\")\r\n"
      ],
      "execution_count": null,
      "outputs": [
        {
          "output_type": "stream",
          "text": [
            "Graph: bn-mouse_visual-cortex_1\n",
            "-------------\n",
            "Success rate tree centrality =  100%\n",
            "Success rate subgraph centrality =  100%\n",
            "------------------------\n",
            "Graph: reptilia-tortoise-network-lm\n",
            "-------------\n",
            "Success rate tree centrality =  100%\n",
            "Success rate subgraph centrality =  100%\n",
            "------------------------\n",
            "Graph: road-chesapeake\n",
            "-------------\n",
            "Success rate tree centrality =  100%\n",
            "Success rate subgraph centrality =  100%\n",
            "------------------------\n"
          ],
          "name": "stdout"
        }
      ]
    }
  ]
}