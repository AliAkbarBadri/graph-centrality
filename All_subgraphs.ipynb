{
  "nbformat": 4,
  "nbformat_minor": 0,
  "metadata": {
    "colab": {
      "name": "All-subgraphs.ipynb",
      "provenance": [],
      "toc_visible": true,
      "include_colab_link": true
    },
    "kernelspec": {
      "name": "python3",
      "display_name": "Python 3"
    }
  },
  "cells": [
    {
      "cell_type": "markdown",
      "metadata": {
        "id": "view-in-github",
        "colab_type": "text"
      },
      "source": [
        "<a href=\"https://colab.research.google.com/github/AliAkbarBadri/graph-centrality/blob/main/All_subgraphs.ipynb\" target=\"_parent\"><img src=\"https://colab.research.google.com/assets/colab-badge.svg\" alt=\"Open In Colab\"/></a>"
      ]
    },
    {
      "cell_type": "markdown",
      "metadata": {
        "id": "OZ0atjq8ITyJ"
      },
      "source": [
        "# Setup"
      ]
    },
    {
      "cell_type": "code",
      "metadata": {
        "id": "3dvxgt-0_SLz"
      },
      "source": [
        "import networkx as nx\n",
        "import glob\n",
        "import pandas as pd"
      ],
      "execution_count": 55,
      "outputs": []
    },
    {
      "cell_type": "markdown",
      "metadata": {
        "id": "LW2WBtEX7SoI"
      },
      "source": [
        "# Functions"
      ]
    },
    {
      "cell_type": "code",
      "metadata": {
        "id": "BKxHr_vDBBpA"
      },
      "source": [
        "def count_subgraph(G, v):\n",
        "  neighbours = G.edges(v)\n",
        "  if len(neighbours) == 0:\n",
        "    return 1\n",
        "  else:\n",
        "    for e in neighbours:\n",
        "      G_temp = G.copy()\n",
        "      G_temp.remove_edge(*e)\n",
        "      a = count_subgraph(G_temp, v)\n",
        "      b = (2**G.number_of_edges(*e) - 1)*count_subgraph(nx.contracted_edge(G, e, self_loops=False), e[0])\n",
        "      return a + b"
      ],
      "execution_count": 5,
      "outputs": []
    },
    {
      "cell_type": "code",
      "metadata": {
        "id": "KpSQpmDD67LT"
      },
      "source": [
        "def count_tree(T, v):\n",
        "  neighbours = T.edges(v)\n",
        "  if len(neighbours) == 0: \n",
        "    return 1\n",
        "  else:\n",
        "    for e in neighbours:\n",
        "      T_temp = T.copy()\n",
        "      T_temp.remove_edge(*e)\n",
        "      return count_tree(T_temp, v) * (count_tree(T_temp,e[1]) + 1) "
      ],
      "execution_count": 3,
      "outputs": []
    },
    {
      "cell_type": "code",
      "metadata": {
        "id": "HAgBJZtBE3oS",
        "outputId": "b5f050e8-b17c-4fda-821b-84014447063a",
        "colab": {
          "base_uri": "https://localhost:8080/"
        }
      },
      "source": [
        "line = nx.path_graph(4)\n",
        "print(line.edges())\n",
        "\n",
        "# result must be equal to 4\n",
        "print(count_subgraph(line,0))\n",
        "print(count_tree(line, 0))"
      ],
      "execution_count": 6,
      "outputs": [
        {
          "output_type": "stream",
          "text": [
            "[(0, 1), (1, 2), (2, 3)]\n",
            "4\n",
            "4\n"
          ],
          "name": "stdout"
        }
      ]
    },
    {
      "cell_type": "code",
      "metadata": {
        "id": "0LTsejaQPnhC",
        "outputId": "fa3caef2-61c7-4536-c027-08ed9a0d5e0b",
        "colab": {
          "base_uri": "https://localhost:8080/"
        }
      },
      "source": [
        "star = nx.star_graph(4)\n",
        "print(star.edges())\n",
        "# result must be equal to 16\n",
        "print(count_subgraph(star,0))\n",
        "print(count_tree(star, 0))"
      ],
      "execution_count": 7,
      "outputs": [
        {
          "output_type": "stream",
          "text": [
            "[(0, 1), (0, 2), (0, 3), (0, 4)]\n",
            "16\n",
            "16\n"
          ],
          "name": "stdout"
        }
      ]
    },
    {
      "cell_type": "markdown",
      "metadata": {
        "id": "kG9_dkdU7yb7"
      },
      "source": [
        "# Get Datasets"
      ]
    },
    {
      "cell_type": "code",
      "metadata": {
        "id": "BP4oyxEcBR94",
        "outputId": "da3d1997-1e82-4bb1-ae9e-f02ae0830ad3",
        "colab": {
          "base_uri": "https://localhost:8080/"
        }
      },
      "source": [
        "! curl -L https://api.github.com/repos/AliAkbarBadri/graph-centrality/tarball --output repo.tar\n",
        "! tar xf repo.tar --wildcards \"*/data/*.csv\" --strip-components=1\n",
        "! rm -rf repo.tar"
      ],
      "execution_count": 48,
      "outputs": [
        {
          "output_type": "stream",
          "text": [
            "  % Total    % Received % Xferd  Average Speed   Time    Time     Time  Current\n",
            "                                 Dload  Upload   Total   Spent    Left  Speed\n",
            "  0     0    0     0    0     0      0      0 --:--:-- --:--:-- --:--:--     0\n",
            "100  414k  100  414k    0     0   888k      0 --:--:-- --:--:-- --:--:-- 3091k\n"
          ],
          "name": "stdout"
        }
      ]
    },
    {
      "cell_type": "code",
      "metadata": {
        "colab": {
          "base_uri": "https://localhost:8080/"
        },
        "id": "--ftsNNbGF8l",
        "outputId": "b2cdde09-aa9c-4fc8-c5f9-b3031552fa6c"
      },
      "source": [
        "for file_name in sorted(glob.glob('data/*.csv')):\n",
        "  print(file_name.split(\"/\")[1].split(\".csv\")[0])"
      ],
      "execution_count": 68,
      "outputs": [
        {
          "output_type": "stream",
          "text": [
            "email-dnc-corecipient\n",
            "facebook-socfb-Amherst41\n",
            "soc-dolphins\n",
            "soc-wiki-Vote\n",
            "web-edu\n",
            "web-polblogs\n",
            "web-spam\n"
          ],
          "name": "stdout"
        }
      ]
    },
    {
      "cell_type": "markdown",
      "metadata": {
        "id": "YHxd_SiIGytl"
      },
      "source": [
        "# Test on datasets"
      ]
    },
    {
      "cell_type": "code",
      "metadata": {
        "id": "Nw_iWAW_HQ9S"
      },
      "source": [
        "def create_graph_from_csv(dir_name:str) -> dict:\n",
        "  graphs = {}\n",
        "  for file_name in sorted(glob.glob(dir_name+'/*.csv')):\n",
        "    df = pd.read_csv(file_name,header=None,names=['src', 'dest'])\n",
        "    G = nx.from_pandas_edgelist(df,source=\"src\",target=\"dest\", create_using=nx.DiGraph())\n",
        "    dataset_name = file_name.split(\"/\")[1].split(\".csv\")[0]\n",
        "    print(dataset_name, G.number_of_nodes(), G.number_of_edges())\n",
        "    graphs[dataset_name] = G\n",
        "  return graphs"
      ],
      "execution_count": 80,
      "outputs": []
    },
    {
      "cell_type": "code",
      "metadata": {
        "id": "48SbHIHeHbAw",
        "outputId": "2a196518-02c9-443a-b650-3cf960d656b5",
        "colab": {
          "base_uri": "https://localhost:8080/"
        }
      },
      "source": [
        "graphs = create_graph_from_csv(dir_name= \"data\")"
      ],
      "execution_count": 81,
      "outputs": [
        {
          "output_type": "stream",
          "text": [
            "email-dnc-corecipient 906 12085\n",
            "facebook-socfb-Amherst41 2235 90953\n",
            "soc-dolphins 62 159\n",
            "soc-wiki-Vote 889 2914\n",
            "web-edu 3031 6474\n",
            "web-polblogs 643 2280\n",
            "web-spam 4767 37375\n"
          ],
          "name": "stdout"
        }
      ]
    },
    {
      "cell_type": "code",
      "metadata": {
        "id": "KcQqur6RLAY6"
      },
      "source": [
        "# def get_all_subgraph_and_tree(G):\n",
        "#   result = {}\n",
        "#   for node in G.nodes()\n",
        "#     a = count_subgraph(G, node)\n",
        "#     b = count_tree(G, node)\n",
        "#     result[node] = ((a,),(b,))"
      ],
      "execution_count": null,
      "outputs": []
    },
    {
      "cell_type": "code",
      "metadata": {
        "id": "U4qewBW3G8UO",
        "outputId": "c547d01f-a54e-4547-d81a-8ee088f97938",
        "colab": {
          "base_uri": "https://localhost:8080/"
        }
      },
      "source": [
        "for key, value in graphs.items():\n",
        "  key = \"soc-dolphins\"\n",
        "  G = graphs[key]\n",
        "  print(key, G.number_of_nodes(), G.number_of_edges())\n",
        "  \n",
        "  for node in G.nodes():\n",
        "    \n",
        "  \n",
        "  \n",
        "  break\n"
      ],
      "execution_count": 94,
      "outputs": [
        {
          "output_type": "stream",
          "text": [
            "email-dnc-corecipient 906 12085\n",
            "facebook-socfb-Amherst41 2235 90953\n",
            "soc-dolphins 62 159\n",
            "soc-wiki-Vote 889 2914\n",
            "web-edu 3031 6474\n",
            "web-polblogs 643 2280\n",
            "web-spam 4767 37375\n"
          ],
          "name": "stdout"
        }
      ]
    },
    {
      "cell_type": "markdown",
      "metadata": {
        "id": "STFzIeg7G4FU"
      },
      "source": [
        "## soc-dolphins"
      ]
    },
    {
      "cell_type": "code",
      "metadata": {
        "id": "b0J6Dv3dKGl_",
        "outputId": "e54e0d67-b35c-43fc-8daa-406b9c9b3cb4",
        "colab": {
          "base_uri": "https://localhost:8080/"
        }
      },
      "source": [
        "\n",
        "count_subgraph(G, 15)"
      ],
      "execution_count": 92,
      "outputs": [
        {
          "output_type": "execute_result",
          "data": {
            "text/plain": [
              "4"
            ]
          },
          "metadata": {
            "tags": []
          },
          "execution_count": 92
        }
      ]
    },
    {
      "cell_type": "code",
      "metadata": {
        "id": "plzfBFfzKm5f"
      },
      "source": [
        "count_subgraph()"
      ],
      "execution_count": null,
      "outputs": []
    },
    {
      "cell_type": "markdown",
      "metadata": {
        "id": "RPgEvbFmG81a"
      },
      "source": [
        "## soc-wiki-Vote"
      ]
    },
    {
      "cell_type": "code",
      "metadata": {
        "id": "Tz7vPJUfG_Qc"
      },
      "source": [
        "G = graphs['soc-wiki-Vote'] \n",
        "print(G.number_of_nodes(), G.number_of_edges())"
      ],
      "execution_count": null,
      "outputs": []
    },
    {
      "cell_type": "code",
      "metadata": {
        "id": "6Je3uRPoK0l5"
      },
      "source": [
        ""
      ],
      "execution_count": null,
      "outputs": []
    },
    {
      "cell_type": "markdown",
      "metadata": {
        "id": "4fMeAd5AHCvv"
      },
      "source": [
        "## web-polblogs"
      ]
    },
    {
      "cell_type": "code",
      "metadata": {
        "id": "wKJ1RRNYHPKN"
      },
      "source": [
        "G = graphs['soc-wiki-Vote'] \n",
        "print(G.number_of_nodes(), G.number_of_edges())"
      ],
      "execution_count": null,
      "outputs": []
    },
    {
      "cell_type": "markdown",
      "metadata": {
        "id": "G2bGYh_cG_su"
      },
      "source": [
        "## web-edu"
      ]
    },
    {
      "cell_type": "code",
      "metadata": {
        "id": "Xfzp4s1xHCMa"
      },
      "source": [
        "G = graphs['soc-wiki-Vote'] \n",
        "print(G.number_of_nodes(), G.number_of_edges())"
      ],
      "execution_count": null,
      "outputs": []
    },
    {
      "cell_type": "markdown",
      "metadata": {
        "id": "aCS6GK9HEkOH"
      },
      "source": [
        "## email-dnc-corecipient"
      ]
    },
    {
      "cell_type": "code",
      "metadata": {
        "id": "xV31XpOEGu1U"
      },
      "source": [
        "G = graphs['soc-wiki-Vote'] \n",
        "print(G.number_of_nodes(), G.number_of_edges())"
      ],
      "execution_count": null,
      "outputs": []
    },
    {
      "cell_type": "markdown",
      "metadata": {
        "id": "S33nqFfLHFHu"
      },
      "source": [
        "## web-spam"
      ]
    },
    {
      "cell_type": "code",
      "metadata": {
        "id": "5YB_2v4IK4lb"
      },
      "source": [
        "G = graphs['soc-wiki-Vote'] \n",
        "print(G.number_of_nodes(), G.number_of_edges())"
      ],
      "execution_count": null,
      "outputs": []
    },
    {
      "cell_type": "markdown",
      "metadata": {
        "id": "ZrJG9y9qGkkn"
      },
      "source": [
        "## facebook-socfb-Amherst41"
      ]
    },
    {
      "cell_type": "code",
      "metadata": {
        "id": "IWqsLRCRHE0x"
      },
      "source": [
        ""
      ],
      "execution_count": null,
      "outputs": []
    }
  ]
}