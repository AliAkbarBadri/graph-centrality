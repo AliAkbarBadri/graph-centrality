{
  "nbformat": 4,
  "nbformat_minor": 0,
  "metadata": {
    "colab": {
      "name": "All-subgraphs.ipynb",
      "provenance": [],
      "toc_visible": true,
      "include_colab_link": true
    },
    "kernelspec": {
      "name": "python3",
      "display_name": "Python 3"
    }
  },
  "cells": [
    {
      "cell_type": "markdown",
      "metadata": {
        "id": "view-in-github",
        "colab_type": "text"
      },
      "source": [
        "<a href=\"https://colab.research.google.com/github/AliAkbarBadri/graph-centrality/blob/main/All_subgraphs.ipynb\" target=\"_parent\"><img src=\"https://colab.research.google.com/assets/colab-badge.svg\" alt=\"Open In Colab\"/></a>"
      ]
    },
    {
      "cell_type": "markdown",
      "metadata": {
        "id": "OZ0atjq8ITyJ"
      },
      "source": [
        "# Setup"
      ]
    },
    {
      "cell_type": "code",
      "metadata": {
        "id": "3dvxgt-0_SLz"
      },
      "source": [
        "import networkx as nx\n",
        "import glob\n",
        "import pandas as pd\n",
        "import time\n",
        "import numpy as np\n",
        "import json\n",
        "from multiprocessing import Pool"
      ],
      "execution_count": 22,
      "outputs": []
    },
    {
      "cell_type": "markdown",
      "metadata": {
        "id": "LW2WBtEX7SoI"
      },
      "source": [
        "# Functions"
      ]
    },
    {
      "cell_type": "code",
      "metadata": {
        "id": "BKxHr_vDBBpA"
      },
      "source": [
        "def count_subgraph(G, v):\n",
        "  neighbours = G.edges(v)\n",
        "  if len(neighbours) == 0:\n",
        "    return 1\n",
        "  else:\n",
        "    for e in neighbours:\n",
        "      G_temp = G.copy()\n",
        "      G_temp.remove_edge(*e)\n",
        "      a = count_subgraph(G_temp, v)\n",
        "      b = (2**G.number_of_edges(*e) - 1)*count_subgraph(nx.contracted_edge(G, e, self_loops=False), e[0])\n",
        "      return a + b"
      ],
      "execution_count": 2,
      "outputs": []
    },
    {
      "cell_type": "code",
      "metadata": {
        "id": "KpSQpmDD67LT"
      },
      "source": [
        "def count_tree(T, v):\n",
        "  # print(T.edges(v))\n",
        "  neighbours = T.edges(v)\n",
        "  if len(neighbours) == 0: \n",
        "    return 1\n",
        "  else:\n",
        "    for e in neighbours:\n",
        "      T_temp = T.copy()\n",
        "      T_temp.remove_edge(*e)\n",
        "      return count_tree(T_temp, v) * (count_tree(T_temp,e[1]) + 1) "
      ],
      "execution_count": 3,
      "outputs": []
    },
    {
      "cell_type": "code",
      "metadata": {
        "id": "HAgBJZtBE3oS",
        "colab": {
          "base_uri": "https://localhost:8080/"
        },
        "outputId": "c05bd53d-7d77-4c46-cf1c-651c0ab925a9"
      },
      "source": [
        "line = nx.path_graph(4)\n",
        "print(line.edges())\n",
        "\n",
        "# result must be equal to 4\n",
        "print(count_subgraph(line,0))\n",
        "print(count_tree(line, 0))"
      ],
      "execution_count": 4,
      "outputs": [
        {
          "output_type": "stream",
          "text": [
            "[(0, 1), (1, 2), (2, 3)]\n",
            "4\n",
            "4\n"
          ],
          "name": "stdout"
        }
      ]
    },
    {
      "cell_type": "code",
      "metadata": {
        "id": "0LTsejaQPnhC",
        "colab": {
          "base_uri": "https://localhost:8080/"
        },
        "outputId": "32831f21-cffc-4e27-fe50-c955b5821a47"
      },
      "source": [
        "star = nx.star_graph(4)\n",
        "print(star.edges())\n",
        "# result must be equal to 16\n",
        "print(count_subgraph(star,0))\n",
        "print(count_tree(star, 0))"
      ],
      "execution_count": 5,
      "outputs": [
        {
          "output_type": "stream",
          "text": [
            "[(0, 1), (0, 2), (0, 3), (0, 4)]\n",
            "16\n",
            "16\n"
          ],
          "name": "stdout"
        }
      ]
    },
    {
      "cell_type": "markdown",
      "metadata": {
        "id": "kG9_dkdU7yb7"
      },
      "source": [
        "# Get Datasets"
      ]
    },
    {
      "cell_type": "code",
      "metadata": {
        "colab": {
          "base_uri": "https://localhost:8080/"
        },
        "id": "BP4oyxEcBR94",
        "outputId": "080eb909-6fa1-4afe-8071-ce89c90598b3"
      },
      "source": [
        "! curl -L https://api.github.com/repos/AliAkbarBadri/graph-centrality/tarball --output repo.tar\n",
        "! tar xf repo.tar --wildcards \"*/data/*.csv\" --strip-components=1\n",
        "! rm -rf repo.tar"
      ],
      "execution_count": 6,
      "outputs": [
        {
          "output_type": "stream",
          "text": [
            "  % Total    % Received % Xferd  Average Speed   Time    Time     Time  Current\n",
            "                                 Dload  Upload   Total   Spent    Left  Speed\n",
            "  0     0    0     0    0     0      0      0 --:--:-- --:--:-- --:--:--     0\n",
            "100  439k    0  439k    0     0  1103k      0 --:--:-- --:--:-- --:--:-- 1103k\n"
          ],
          "name": "stdout"
        }
      ]
    },
    {
      "cell_type": "code",
      "metadata": {
        "colab": {
          "base_uri": "https://localhost:8080/"
        },
        "id": "--ftsNNbGF8l",
        "outputId": "ddfffd26-a81c-4001-db67-632920ecc26c"
      },
      "source": [
        "for file_name in sorted(glob.glob('data/*.csv')):\n",
        "  print(file_name.split(\"/\")[1].split(\".csv\")[0])"
      ],
      "execution_count": 7,
      "outputs": [
        {
          "output_type": "stream",
          "text": [
            "ENZYMES_g297\n",
            "aves-songbird-social\n",
            "bn-mouse_visual-cortex_2\n",
            "ca-sandi_auths\n",
            "email-dnc-corecipient\n",
            "email-enron-only\n",
            "facebook-socfb-Amherst41\n",
            "insecta-ant-colony1-day01\n",
            "reptilia-tortoise-network-lm\n",
            "road-chesapeake\n",
            "rt-retweet\n",
            "soc-dolphins\n",
            "soc-wiki-Vote\n",
            "web-edu\n",
            "web-polblogs\n",
            "web-spam\n"
          ],
          "name": "stdout"
        }
      ]
    },
    {
      "cell_type": "markdown",
      "metadata": {
        "id": "YHxd_SiIGytl"
      },
      "source": [
        "# Test on datasets"
      ]
    },
    {
      "cell_type": "code",
      "metadata": {
        "id": "Nw_iWAW_HQ9S"
      },
      "source": [
        "def create_graph_from_csv(dir_name:str) -> dict:\n",
        "  graphs = {}\n",
        "  for file_name in sorted(glob.glob(dir_name+'/*.csv')):\n",
        "    df = pd.read_csv(file_name,header=None,names=['src', 'dest'])\n",
        "    G = nx.from_pandas_edgelist(df,source=\"src\",target=\"dest\", create_using=nx.DiGraph())\n",
        "    dataset_name = file_name.split(\"/\")[1].split(\".csv\")[0]\n",
        "    print(dataset_name, G.number_of_nodes(), G.number_of_edges())\n",
        "    graphs[dataset_name] = G\n",
        "  return graphs"
      ],
      "execution_count": 8,
      "outputs": []
    },
    {
      "cell_type": "code",
      "metadata": {
        "colab": {
          "base_uri": "https://localhost:8080/"
        },
        "id": "48SbHIHeHbAw",
        "outputId": "5397aade-e4d7-4a45-deac-32dc43c6ec16"
      },
      "source": [
        "graphs = create_graph_from_csv(dir_name= \"data\")"
      ],
      "execution_count": 9,
      "outputs": [
        {
          "output_type": "stream",
          "text": [
            "ENZYMES_g297 121 298\n",
            "aves-songbird-social 110 1027\n",
            "bn-mouse_visual-cortex_2 193 214\n",
            "ca-sandi_auths 86 124\n",
            "email-dnc-corecipient 906 12085\n",
            "email-enron-only 143 623\n",
            "facebook-socfb-Amherst41 2235 90953\n",
            "insecta-ant-colony1-day01 113 4550\n",
            "reptilia-tortoise-network-lm 45 106\n",
            "road-chesapeake 39 170\n",
            "rt-retweet 96 117\n",
            "soc-dolphins 62 159\n",
            "soc-wiki-Vote 889 2914\n",
            "web-edu 3031 6474\n",
            "web-polblogs 643 2280\n",
            "web-spam 4767 37375\n"
          ],
          "name": "stdout"
        }
      ]
    },
    {
      "cell_type": "code",
      "metadata": {
        "id": "huq3XtzW6j1C"
      },
      "source": [
        "graph_names = [\n",
        "              #  \"road-chesapeake\",\n",
        "              #  \"reptilia-tortoise-network-lm\",\n",
        "               \"rt-retweet\",\n",
        "              #  \"ca-sandi_auths\",\n",
        "              #  bad:\"soc-dolphins\"\n",
        "              #  \n",
        "               ]"
      ],
      "execution_count": 29,
      "outputs": []
    },
    {
      "cell_type": "markdown",
      "metadata": {
        "id": "z7NLuGtu0Cta"
      },
      "source": [
        "# Tree Centrality"
      ]
    },
    {
      "cell_type": "code",
      "metadata": {
        "id": "gCWZEZRrCqFi"
      },
      "source": [
        "tree_centrality = {}\n",
        "tree_time = {}"
      ],
      "execution_count": 59,
      "outputs": []
    },
    {
      "cell_type": "code",
      "metadata": {
        "colab": {
          "base_uri": "https://localhost:8080/"
        },
        "id": "722Kg4rro7H6",
        "outputId": "3422af12-9771-4ed2-8b51-e63bbbc6f4db"
      },
      "source": [
        "for key in graph_names:\n",
        "  # key = \"email-enron-only\"\n",
        "  print(\"Graph:\",key)\n",
        "  tree_centrality[key] = {}\n",
        "  G = graphs[key]\n",
        "  start_time_all = time.time()\n",
        "  for node in G.nodes():\n",
        "    # print(node)\n",
        "    tree_centrality[key][node] = count_tree(G, node)\n",
        "  all_time = time.time() - start_time_all\n",
        "  print(\" time:\", all_time)\n",
        "  tree_time[key] = all_time"
      ],
      "execution_count": 60,
      "outputs": [
        {
          "output_type": "stream",
          "text": [
            "Graph: road-chesapeake\n",
            " time: 0.580406665802002\n",
            "Graph: reptilia-tortoise-network-lm\n",
            " time: 1.0569086074829102\n",
            "Graph: rt-retweet\n",
            " time: 0.17590045928955078\n",
            "Graph: ca-sandi_auths\n",
            " time: 0.3396949768066406\n",
            "Graph: email-enron-only\n",
            " time: 1239.881894826889\n"
          ],
          "name": "stdout"
        }
      ]
    },
    {
      "cell_type": "code",
      "metadata": {
        "id": "8ah0XVFpERlN"
      },
      "source": [
        "with open('result/tree_centrality.json', 'w') as fp:\n",
        "    json.dump(tree_centrality, fp, indent=4)\n",
        "with open('result/tree_time.json', 'w') as fp:\n",
        "    json.dump(tree_time, fp, indent=4)"
      ],
      "execution_count": 66,
      "outputs": []
    },
    {
      "cell_type": "markdown",
      "metadata": {
        "id": "yUHqtnpwEprH"
      },
      "source": [
        "# Graph Centrality"
      ]
    },
    {
      "cell_type": "code",
      "metadata": {
        "id": "Q_qEOVhW295F"
      },
      "source": [
        "graph_nodes = {\n",
        "    \"road-chesapeake\":[36,38,39],\n",
        "    # \"reptilia-tortoise-network-lm\":[],\n",
        "    \"rt-retweet\":[72,89,93],\n",
        "    # \"ca-sandi_auths\":[],\n",
        "    # \"soc-dolphins\":[]\n",
        "}"
      ],
      "execution_count": 40,
      "outputs": []
    },
    {
      "cell_type": "code",
      "metadata": {
        "id": "BTO3WdPUE0OQ"
      },
      "source": [
        "graph_centrality = {}\n",
        "graph_time = {}"
      ],
      "execution_count": 41,
      "outputs": []
    },
    {
      "cell_type": "code",
      "metadata": {
        "id": "MKKRPVg9Dgb_",
        "outputId": "11c8101b-0c08-46fc-c69b-df7b4d1247f3",
        "colab": {
          "base_uri": "https://localhost:8080/"
        }
      },
      "source": [
        "for key in graph_names:\n",
        "    print(\"Graph:\",key)\n",
        "    graph_centrality[key] = {}\n",
        "\n",
        "    G = graphs[key]\n",
        "    nodes = graph_nodes[key]\n",
        "    start_time_all = time.time()\n",
        "    with Pool(processes=4) as pool:\n",
        "        graph_centrality[key] = pool.starmap(fun, zip([G]*len(nodes), nodes))\n",
        "    all_time = time.time() - start_time_all\n",
        "    print(\" time:\", all_time)\n",
        "    graph_time[key] = all_time\n",
        "    break"
      ],
      "execution_count": null,
      "outputs": [
        {
          "output_type": "stream",
          "text": [
            "Graph: rt-retweet\n",
            "72 -\n",
            "89 -\n",
            "93 -\n"
          ],
          "name": "stdout"
        }
      ]
    },
    {
      "cell_type": "code",
      "metadata": {
        "id": "uirMOCu-189h"
      },
      "source": [
        "def fun(G, v):\n",
        "    print(v,\"-\")\n",
        "    centrality = count_subgraph(G,v)\n",
        "    print(v,centrality)\n",
        "    return (v,centrality)"
      ],
      "execution_count": 27,
      "outputs": []
    },
    {
      "cell_type": "code",
      "metadata": {
        "colab": {
          "base_uri": "https://localhost:8080/",
          "height": 1000
        },
        "id": "F6Wf8U4D12YR",
        "outputId": "a295520d-80ec-4fc8-89fc-c709d1e19df6"
      },
      "source": [
        "for key in graph_names:\n",
        "    print(\"Graph:\",key)\n",
        "    graph_centrality[key] = {}\n",
        "    G = graphs[key]\n",
        "    start_time_all = time.time()\n",
        "    with Pool(processes=4) as pool:\n",
        "        graph_centrality[key] = pool.starmap(fun, zip([G]*G.number_of_nodes(), list(G.nodes())))\n",
        "    all_time = time.time() - start_time_all\n",
        "    print(\" time:\", all_time)\n",
        "    graph_time[key] = all_time\n",
        "    break"
      ],
      "execution_count": 28,
      "outputs": [
        {
          "output_type": "stream",
          "text": [
            "Graph: soc-dolphins\n",
            "41 -\n",
            "11 -\n",
            "29 -\n",
            "2 -\n",
            "11 4\n",
            "1 -\n",
            "2 1\n",
            "1 1\n",
            "20 -\n",
            "15 -\n",
            "15 4\n",
            "20 4\n",
            "16 -\n",
            "16 2\n",
            "27 -\n",
            "3 -\n",
            "3 1\n",
            "45 -\n",
            "27 100\n",
            "28 -\n",
            "29 182\n",
            "37 -\n",
            "37 220\n",
            "42 -\n",
            "42 44\n",
            "55 -\n",
            "55 1010\n",
            "4 -\n",
            "4 1\n",
            "60 -\n",
            "28 1626\n",
            "10 -\n",
            "10 4\n",
            "6 -\n",
            "6 1\n",
            "14 -\n",
            "14 13\n",
            "57 -\n",
            "57 4\n",
            "58 -\n",
            "45 14956\n",
            "62 -\n",
            "41 1133938\n",
            "43 -\n",
            "43 9227\n",
            "48 -\n",
            "48 171596\n",
            "18 -\n",
            "18 64\n",
            "21 -\n",
            "21 54\n",
            "38 -\n",
            "38 80918\n",
            "46 -\n"
          ],
          "name": "stdout"
        },
        {
          "output_type": "stream",
          "text": [
            "Process ForkPoolWorker-9:\n",
            "Process ForkPoolWorker-12:\n",
            "Traceback (most recent call last):\n"
          ],
          "name": "stderr"
        },
        {
          "output_type": "error",
          "ename": "KeyboardInterrupt",
          "evalue": "ignored",
          "traceback": [
            "\u001b[0;31m---------------------------------------------------------------------------\u001b[0m",
            "\u001b[0;31mKeyboardInterrupt\u001b[0m                         Traceback (most recent call last)",
            "\u001b[0;32m<ipython-input-28-b3f974a8cfab>\u001b[0m in \u001b[0;36m<module>\u001b[0;34m()\u001b[0m\n\u001b[1;32m      5\u001b[0m     \u001b[0mstart_time_all\u001b[0m \u001b[0;34m=\u001b[0m \u001b[0mtime\u001b[0m\u001b[0;34m.\u001b[0m\u001b[0mtime\u001b[0m\u001b[0;34m(\u001b[0m\u001b[0;34m)\u001b[0m\u001b[0;34m\u001b[0m\u001b[0;34m\u001b[0m\u001b[0m\n\u001b[1;32m      6\u001b[0m     \u001b[0;32mwith\u001b[0m \u001b[0mPool\u001b[0m\u001b[0;34m(\u001b[0m\u001b[0mprocesses\u001b[0m\u001b[0;34m=\u001b[0m\u001b[0;36m4\u001b[0m\u001b[0;34m)\u001b[0m \u001b[0;32mas\u001b[0m \u001b[0mpool\u001b[0m\u001b[0;34m:\u001b[0m\u001b[0;34m\u001b[0m\u001b[0;34m\u001b[0m\u001b[0m\n\u001b[0;32m----> 7\u001b[0;31m         \u001b[0mgraph_centrality\u001b[0m\u001b[0;34m[\u001b[0m\u001b[0mkey\u001b[0m\u001b[0;34m]\u001b[0m \u001b[0;34m=\u001b[0m \u001b[0mpool\u001b[0m\u001b[0;34m.\u001b[0m\u001b[0mstarmap\u001b[0m\u001b[0;34m(\u001b[0m\u001b[0mfun\u001b[0m\u001b[0;34m,\u001b[0m \u001b[0mzip\u001b[0m\u001b[0;34m(\u001b[0m\u001b[0;34m[\u001b[0m\u001b[0mG\u001b[0m\u001b[0;34m]\u001b[0m\u001b[0;34m*\u001b[0m\u001b[0mG\u001b[0m\u001b[0;34m.\u001b[0m\u001b[0mnumber_of_nodes\u001b[0m\u001b[0;34m(\u001b[0m\u001b[0;34m)\u001b[0m\u001b[0;34m,\u001b[0m \u001b[0mlist\u001b[0m\u001b[0;34m(\u001b[0m\u001b[0mG\u001b[0m\u001b[0;34m.\u001b[0m\u001b[0mnodes\u001b[0m\u001b[0;34m(\u001b[0m\u001b[0;34m)\u001b[0m\u001b[0;34m)\u001b[0m\u001b[0;34m)\u001b[0m\u001b[0;34m)\u001b[0m\u001b[0;34m\u001b[0m\u001b[0;34m\u001b[0m\u001b[0m\n\u001b[0m\u001b[1;32m      8\u001b[0m     \u001b[0mall_time\u001b[0m \u001b[0;34m=\u001b[0m \u001b[0mtime\u001b[0m\u001b[0;34m.\u001b[0m\u001b[0mtime\u001b[0m\u001b[0;34m(\u001b[0m\u001b[0;34m)\u001b[0m \u001b[0;34m-\u001b[0m \u001b[0mstart_time_all\u001b[0m\u001b[0;34m\u001b[0m\u001b[0;34m\u001b[0m\u001b[0m\n\u001b[1;32m      9\u001b[0m     \u001b[0mprint\u001b[0m\u001b[0;34m(\u001b[0m\u001b[0;34m\" time:\"\u001b[0m\u001b[0;34m,\u001b[0m \u001b[0mall_time\u001b[0m\u001b[0;34m)\u001b[0m\u001b[0;34m\u001b[0m\u001b[0;34m\u001b[0m\u001b[0m\n",
            "\u001b[0;32m/usr/lib/python3.6/multiprocessing/pool.py\u001b[0m in \u001b[0;36mstarmap\u001b[0;34m(self, func, iterable, chunksize)\u001b[0m\n\u001b[1;32m    272\u001b[0m         \u001b[0;31m`\u001b[0m\u001b[0mfunc\u001b[0m\u001b[0;31m`\u001b[0m \u001b[0;32mand\u001b[0m \u001b[0;34m(\u001b[0m\u001b[0ma\u001b[0m\u001b[0;34m,\u001b[0m \u001b[0mb\u001b[0m\u001b[0;34m)\u001b[0m \u001b[0mbecomes\u001b[0m \u001b[0mfunc\u001b[0m\u001b[0;34m(\u001b[0m\u001b[0ma\u001b[0m\u001b[0;34m,\u001b[0m \u001b[0mb\u001b[0m\u001b[0;34m)\u001b[0m\u001b[0;34m.\u001b[0m\u001b[0;34m\u001b[0m\u001b[0;34m\u001b[0m\u001b[0m\n\u001b[1;32m    273\u001b[0m         '''\n\u001b[0;32m--> 274\u001b[0;31m         \u001b[0;32mreturn\u001b[0m \u001b[0mself\u001b[0m\u001b[0;34m.\u001b[0m\u001b[0m_map_async\u001b[0m\u001b[0;34m(\u001b[0m\u001b[0mfunc\u001b[0m\u001b[0;34m,\u001b[0m \u001b[0miterable\u001b[0m\u001b[0;34m,\u001b[0m \u001b[0mstarmapstar\u001b[0m\u001b[0;34m,\u001b[0m \u001b[0mchunksize\u001b[0m\u001b[0;34m)\u001b[0m\u001b[0;34m.\u001b[0m\u001b[0mget\u001b[0m\u001b[0;34m(\u001b[0m\u001b[0;34m)\u001b[0m\u001b[0;34m\u001b[0m\u001b[0;34m\u001b[0m\u001b[0m\n\u001b[0m\u001b[1;32m    275\u001b[0m \u001b[0;34m\u001b[0m\u001b[0m\n\u001b[1;32m    276\u001b[0m     def starmap_async(self, func, iterable, chunksize=None, callback=None,\n",
            "\u001b[0;32m/usr/lib/python3.6/multiprocessing/pool.py\u001b[0m in \u001b[0;36mget\u001b[0;34m(self, timeout)\u001b[0m\n\u001b[1;32m    636\u001b[0m \u001b[0;34m\u001b[0m\u001b[0m\n\u001b[1;32m    637\u001b[0m     \u001b[0;32mdef\u001b[0m \u001b[0mget\u001b[0m\u001b[0;34m(\u001b[0m\u001b[0mself\u001b[0m\u001b[0;34m,\u001b[0m \u001b[0mtimeout\u001b[0m\u001b[0;34m=\u001b[0m\u001b[0;32mNone\u001b[0m\u001b[0;34m)\u001b[0m\u001b[0;34m:\u001b[0m\u001b[0;34m\u001b[0m\u001b[0;34m\u001b[0m\u001b[0m\n\u001b[0;32m--> 638\u001b[0;31m         \u001b[0mself\u001b[0m\u001b[0;34m.\u001b[0m\u001b[0mwait\u001b[0m\u001b[0;34m(\u001b[0m\u001b[0mtimeout\u001b[0m\u001b[0;34m)\u001b[0m\u001b[0;34m\u001b[0m\u001b[0;34m\u001b[0m\u001b[0m\n\u001b[0m\u001b[1;32m    639\u001b[0m         \u001b[0;32mif\u001b[0m \u001b[0;32mnot\u001b[0m \u001b[0mself\u001b[0m\u001b[0;34m.\u001b[0m\u001b[0mready\u001b[0m\u001b[0;34m(\u001b[0m\u001b[0;34m)\u001b[0m\u001b[0;34m:\u001b[0m\u001b[0;34m\u001b[0m\u001b[0;34m\u001b[0m\u001b[0m\n\u001b[1;32m    640\u001b[0m             \u001b[0;32mraise\u001b[0m \u001b[0mTimeoutError\u001b[0m\u001b[0;34m\u001b[0m\u001b[0;34m\u001b[0m\u001b[0m\n",
            "\u001b[0;32m/usr/lib/python3.6/multiprocessing/pool.py\u001b[0m in \u001b[0;36mwait\u001b[0;34m(self, timeout)\u001b[0m\n\u001b[1;32m    633\u001b[0m \u001b[0;34m\u001b[0m\u001b[0m\n\u001b[1;32m    634\u001b[0m     \u001b[0;32mdef\u001b[0m \u001b[0mwait\u001b[0m\u001b[0;34m(\u001b[0m\u001b[0mself\u001b[0m\u001b[0;34m,\u001b[0m \u001b[0mtimeout\u001b[0m\u001b[0;34m=\u001b[0m\u001b[0;32mNone\u001b[0m\u001b[0;34m)\u001b[0m\u001b[0;34m:\u001b[0m\u001b[0;34m\u001b[0m\u001b[0;34m\u001b[0m\u001b[0m\n\u001b[0;32m--> 635\u001b[0;31m         \u001b[0mself\u001b[0m\u001b[0;34m.\u001b[0m\u001b[0m_event\u001b[0m\u001b[0;34m.\u001b[0m\u001b[0mwait\u001b[0m\u001b[0;34m(\u001b[0m\u001b[0mtimeout\u001b[0m\u001b[0;34m)\u001b[0m\u001b[0;34m\u001b[0m\u001b[0;34m\u001b[0m\u001b[0m\n\u001b[0m\u001b[1;32m    636\u001b[0m \u001b[0;34m\u001b[0m\u001b[0m\n\u001b[1;32m    637\u001b[0m     \u001b[0;32mdef\u001b[0m \u001b[0mget\u001b[0m\u001b[0;34m(\u001b[0m\u001b[0mself\u001b[0m\u001b[0;34m,\u001b[0m \u001b[0mtimeout\u001b[0m\u001b[0;34m=\u001b[0m\u001b[0;32mNone\u001b[0m\u001b[0;34m)\u001b[0m\u001b[0;34m:\u001b[0m\u001b[0;34m\u001b[0m\u001b[0;34m\u001b[0m\u001b[0m\n",
            "\u001b[0;32m/usr/lib/python3.6/threading.py\u001b[0m in \u001b[0;36mwait\u001b[0;34m(self, timeout)\u001b[0m\n\u001b[1;32m    549\u001b[0m             \u001b[0msignaled\u001b[0m \u001b[0;34m=\u001b[0m \u001b[0mself\u001b[0m\u001b[0;34m.\u001b[0m\u001b[0m_flag\u001b[0m\u001b[0;34m\u001b[0m\u001b[0;34m\u001b[0m\u001b[0m\n\u001b[1;32m    550\u001b[0m             \u001b[0;32mif\u001b[0m \u001b[0;32mnot\u001b[0m \u001b[0msignaled\u001b[0m\u001b[0;34m:\u001b[0m\u001b[0;34m\u001b[0m\u001b[0;34m\u001b[0m\u001b[0m\n\u001b[0;32m--> 551\u001b[0;31m                 \u001b[0msignaled\u001b[0m \u001b[0;34m=\u001b[0m \u001b[0mself\u001b[0m\u001b[0;34m.\u001b[0m\u001b[0m_cond\u001b[0m\u001b[0;34m.\u001b[0m\u001b[0mwait\u001b[0m\u001b[0;34m(\u001b[0m\u001b[0mtimeout\u001b[0m\u001b[0;34m)\u001b[0m\u001b[0;34m\u001b[0m\u001b[0;34m\u001b[0m\u001b[0m\n\u001b[0m\u001b[1;32m    552\u001b[0m             \u001b[0;32mreturn\u001b[0m \u001b[0msignaled\u001b[0m\u001b[0;34m\u001b[0m\u001b[0;34m\u001b[0m\u001b[0m\n\u001b[1;32m    553\u001b[0m \u001b[0;34m\u001b[0m\u001b[0m\n",
            "\u001b[0;32m/usr/lib/python3.6/threading.py\u001b[0m in \u001b[0;36mwait\u001b[0;34m(self, timeout)\u001b[0m\n\u001b[1;32m    293\u001b[0m         \u001b[0;32mtry\u001b[0m\u001b[0;34m:\u001b[0m    \u001b[0;31m# restore state no matter what (e.g., KeyboardInterrupt)\u001b[0m\u001b[0;34m\u001b[0m\u001b[0;34m\u001b[0m\u001b[0m\n\u001b[1;32m    294\u001b[0m             \u001b[0;32mif\u001b[0m \u001b[0mtimeout\u001b[0m \u001b[0;32mis\u001b[0m \u001b[0;32mNone\u001b[0m\u001b[0;34m:\u001b[0m\u001b[0;34m\u001b[0m\u001b[0;34m\u001b[0m\u001b[0m\n\u001b[0;32m--> 295\u001b[0;31m                 \u001b[0mwaiter\u001b[0m\u001b[0;34m.\u001b[0m\u001b[0macquire\u001b[0m\u001b[0;34m(\u001b[0m\u001b[0;34m)\u001b[0m\u001b[0;34m\u001b[0m\u001b[0;34m\u001b[0m\u001b[0m\n\u001b[0m\u001b[1;32m    296\u001b[0m                 \u001b[0mgotit\u001b[0m \u001b[0;34m=\u001b[0m \u001b[0;32mTrue\u001b[0m\u001b[0;34m\u001b[0m\u001b[0;34m\u001b[0m\u001b[0m\n\u001b[1;32m    297\u001b[0m             \u001b[0;32melse\u001b[0m\u001b[0;34m:\u001b[0m\u001b[0;34m\u001b[0m\u001b[0;34m\u001b[0m\u001b[0m\n",
            "\u001b[0;31mKeyboardInterrupt\u001b[0m: "
          ]
        }
      ]
    },
    {
      "cell_type": "code",
      "metadata": {
        "id": "KcQqur6RLAY6"
      },
      "source": [
        "# for key in graph_names:\n",
        "#   print(\"Graph:\",key)\n",
        "#   graph_centrality[key] = {}\n",
        "#   G = graphs[key]\n",
        "#   start_time_all = time.time()\n",
        "#   for node in G.nodes():\n",
        "#     graph_centrality[key][node] = count_subgraph(G, node)\n",
        "#   all_time = time.time() - start_time_all\n",
        "#   print(\" time:\", all_time)\n",
        "#   graph_time[key] = all_time"
      ],
      "execution_count": null,
      "outputs": []
    },
    {
      "cell_type": "code",
      "metadata": {
        "id": "FGGd7peZIbVE"
      },
      "source": [
        "with open('result/graph_centrality.json', 'w') as fp:\n",
        "    json.dump(graph_centrality, fp, indent=4)\n",
        "with open('result/graph_time.json', 'w') as fp:\n",
        "    json.dump(graph_time, fp, indent=4)"
      ],
      "execution_count": null,
      "outputs": []
    },
    {
      "cell_type": "markdown",
      "metadata": {
        "id": "o2crzdJAFE-i"
      },
      "source": [
        "# Betweenness Centrality"
      ]
    },
    {
      "cell_type": "code",
      "metadata": {
        "id": "1BDoAcOGKQF-"
      },
      "source": [
        "betweenness_centrality = nx.betweenness_centrality(G)"
      ],
      "execution_count": null,
      "outputs": []
    },
    {
      "cell_type": "code",
      "metadata": {
        "id": "_dcJJrLRMr6K"
      },
      "source": [
        "with open('result/betweenness_centrality.json', 'w') as fp:\n",
        "    json.dump(betweenness_centrality, fp, indent=4)"
      ],
      "execution_count": null,
      "outputs": []
    },
    {
      "cell_type": "markdown",
      "metadata": {
        "id": "4rxj8D5EKQkM"
      },
      "source": [
        "# Eigenvector Centrality"
      ]
    },
    {
      "cell_type": "code",
      "metadata": {
        "id": "ofNpZxzrFJlq"
      },
      "source": [
        "eigenvector_centrality = nx.eigenvector_centrality(G)"
      ],
      "execution_count": null,
      "outputs": []
    },
    {
      "cell_type": "code",
      "metadata": {
        "id": "z4PpdEnqKMj-"
      },
      "source": [
        "with open('result/eigenvector_centrality.json', 'w') as fp:\n",
        "    json.dump(eigenvector_centrality, fp, indent=4)"
      ],
      "execution_count": null,
      "outputs": []
    },
    {
      "cell_type": "markdown",
      "metadata": {
        "id": "_FNwuzBGM92Z"
      },
      "source": [
        "# Degree Centrality"
      ]
    },
    {
      "cell_type": "code",
      "metadata": {
        "id": "b6kYEKjOMfsw"
      },
      "source": [
        "degree_centrality = nx.degree_centrality(G)"
      ],
      "execution_count": null,
      "outputs": []
    },
    {
      "cell_type": "code",
      "metadata": {
        "id": "gH7AI54ANHgq"
      },
      "source": [
        "with open('result/degree_centrality.json', 'w') as fp:\n",
        "    json.dump(degree_centrality, fp, indent=4)"
      ],
      "execution_count": null,
      "outputs": []
    }
  ]
}