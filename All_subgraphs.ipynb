{
  "nbformat": 4,
  "nbformat_minor": 0,
  "metadata": {
    "colab": {
      "name": "All-subgraphs.ipynb",
      "provenance": [],
      "toc_visible": true,
      "include_colab_link": true
    },
    "kernelspec": {
      "name": "python3",
      "display_name": "Python 3"
    }
  },
  "cells": [
    {
      "cell_type": "markdown",
      "metadata": {
        "id": "view-in-github",
        "colab_type": "text"
      },
      "source": [
        "<a href=\"https://colab.research.google.com/github/AliAkbarBadri/graph-centrality/blob/main/All_subgraphs.ipynb\" target=\"_parent\"><img src=\"https://colab.research.google.com/assets/colab-badge.svg\" alt=\"Open In Colab\"/></a>"
      ]
    },
    {
      "cell_type": "markdown",
      "metadata": {
        "id": "OZ0atjq8ITyJ"
      },
      "source": [
        "# Setup"
      ]
    },
    {
      "cell_type": "code",
      "metadata": {
        "id": "3dvxgt-0_SLz"
      },
      "source": [
        "import networkx as nx\n",
        "import glob\n",
        "import pandas as pd\n",
        "import time\n",
        "import numpy as np\n",
        "import json\n",
        "from multiprocessing import Pool"
      ],
      "execution_count": 74,
      "outputs": []
    },
    {
      "cell_type": "markdown",
      "metadata": {
        "id": "LW2WBtEX7SoI"
      },
      "source": [
        "# Functions"
      ]
    },
    {
      "cell_type": "code",
      "metadata": {
        "id": "BKxHr_vDBBpA"
      },
      "source": [
        "def count_subgraph(G, v):\n",
        "  neighbours = G.edges(v)\n",
        "  if len(neighbours) == 0:\n",
        "    return 1\n",
        "  else:\n",
        "    for e in neighbours:\n",
        "      G_temp = G.copy()\n",
        "      G_temp.remove_edge(*e)\n",
        "      a = count_subgraph(G_temp, v)\n",
        "      b = (2**G.number_of_edges(*e) - 1)*count_subgraph(nx.contracted_edge(G, e, self_loops=False), e[0])\n",
        "      return a + b"
      ],
      "execution_count": 71,
      "outputs": []
    },
    {
      "cell_type": "code",
      "metadata": {
        "id": "KpSQpmDD67LT"
      },
      "source": [
        "def count_tree(T, v):\n",
        "  # print(T.edges(v))\n",
        "  neighbours = T.edges(v)\n",
        "  if len(neighbours) == 0: \n",
        "    return 1\n",
        "  else:\n",
        "    for e in neighbours:\n",
        "      T_temp = T.copy()\n",
        "      T_temp.remove_edge(*e)\n",
        "      return count_tree(T_temp, v) * (count_tree(T_temp,e[1]) + 1) "
      ],
      "execution_count": 38,
      "outputs": []
    },
    {
      "cell_type": "code",
      "metadata": {
        "id": "HAgBJZtBE3oS",
        "colab": {
          "base_uri": "https://localhost:8080/"
        },
        "outputId": "cd04e625-d682-4410-8409-405cd8e6f452"
      },
      "source": [
        "line = nx.path_graph(4)\n",
        "print(line.edges())\n",
        "\n",
        "# result must be equal to 4\n",
        "print(count_subgraph(line,0))\n",
        "print(count_tree(line, 0))"
      ],
      "execution_count": 4,
      "outputs": [
        {
          "output_type": "stream",
          "text": [
            "[(0, 1), (1, 2), (2, 3)]\n",
            "4\n",
            "4\n"
          ],
          "name": "stdout"
        }
      ]
    },
    {
      "cell_type": "code",
      "metadata": {
        "id": "0LTsejaQPnhC",
        "colab": {
          "base_uri": "https://localhost:8080/"
        },
        "outputId": "96c5795d-ad6c-4441-aa58-cd085d2609eb"
      },
      "source": [
        "star = nx.star_graph(4)\n",
        "print(star.edges())\n",
        "# result must be equal to 16\n",
        "print(count_subgraph(star,0))\n",
        "print(count_tree(star, 0))"
      ],
      "execution_count": 5,
      "outputs": [
        {
          "output_type": "stream",
          "text": [
            "[(0, 1), (0, 2), (0, 3), (0, 4)]\n",
            "16\n",
            "16\n"
          ],
          "name": "stdout"
        }
      ]
    },
    {
      "cell_type": "markdown",
      "metadata": {
        "id": "kG9_dkdU7yb7"
      },
      "source": [
        "# Get Datasets"
      ]
    },
    {
      "cell_type": "code",
      "metadata": {
        "colab": {
          "base_uri": "https://localhost:8080/"
        },
        "id": "BP4oyxEcBR94",
        "outputId": "11421df7-4833-4c7a-ec5d-f02fcbf2db82"
      },
      "source": [
        "! curl -L https://api.github.com/repos/AliAkbarBadri/graph-centrality/tarball --output repo.tar\n",
        "! tar xf repo.tar --wildcards \"*/data/*.csv\" --strip-components=1\n",
        "! rm -rf repo.tar"
      ],
      "execution_count": 6,
      "outputs": [
        {
          "output_type": "stream",
          "text": [
            "  % Total    % Received % Xferd  Average Speed   Time    Time     Time  Current\n",
            "                                 Dload  Upload   Total   Spent    Left  Speed\n",
            "  0     0    0     0    0     0      0      0 --:--:-- --:--:-- --:--:--     0\n",
            "100  442k    0  442k    0     0   856k      0 --:--:-- --:--:-- --:--:--  856k\n"
          ],
          "name": "stdout"
        }
      ]
    },
    {
      "cell_type": "code",
      "metadata": {
        "colab": {
          "base_uri": "https://localhost:8080/"
        },
        "id": "--ftsNNbGF8l",
        "outputId": "e81ff351-6122-4dbc-843f-b5ff2ad8194e"
      },
      "source": [
        "for file_name in sorted(glob.glob('data/*.csv')):\n",
        "  print(file_name.split(\"/\")[1].split(\".csv\")[0])"
      ],
      "execution_count": 7,
      "outputs": [
        {
          "output_type": "stream",
          "text": [
            "ENZYMES_g297\n",
            "aves-songbird-social\n",
            "bn-mouse_visual-cortex_2\n",
            "ca-sandi_auths\n",
            "email-dnc-corecipient\n",
            "email-enron-only\n",
            "facebook-socfb-Amherst41\n",
            "insecta-ant-colony1-day01\n",
            "reptilia-tortoise-network-lm\n",
            "road-chesapeake\n",
            "rt-retweet\n",
            "soc-dolphins\n",
            "soc-wiki-Vote\n",
            "web-edu\n",
            "web-polblogs\n",
            "web-spam\n"
          ],
          "name": "stdout"
        }
      ]
    },
    {
      "cell_type": "markdown",
      "metadata": {
        "id": "YHxd_SiIGytl"
      },
      "source": [
        "# Test on datasets"
      ]
    },
    {
      "cell_type": "code",
      "metadata": {
        "id": "Nw_iWAW_HQ9S"
      },
      "source": [
        "def create_graph_from_csv(dir_name:str) -> dict:\n",
        "  graphs = {}\n",
        "  for file_name in sorted(glob.glob(dir_name+'/*.csv')):\n",
        "    df = pd.read_csv(file_name,header=None,names=['src', 'dest'])\n",
        "    G = nx.from_pandas_edgelist(df,source=\"src\",target=\"dest\", create_using=nx.DiGraph())\n",
        "    dataset_name = file_name.split(\"/\")[1].split(\".csv\")[0]\n",
        "    print(dataset_name, G.number_of_nodes(), G.number_of_edges())\n",
        "    graphs[dataset_name] = G\n",
        "  return graphs"
      ],
      "execution_count": 41,
      "outputs": []
    },
    {
      "cell_type": "code",
      "metadata": {
        "colab": {
          "base_uri": "https://localhost:8080/"
        },
        "id": "48SbHIHeHbAw",
        "outputId": "e38d64d1-9535-455b-aa18-1716c01a2a54"
      },
      "source": [
        "graphs = create_graph_from_csv(dir_name= \"data\")"
      ],
      "execution_count": 42,
      "outputs": [
        {
          "output_type": "stream",
          "text": [
            "ENZYMES_g297 121 298\n",
            "aves-songbird-social 110 1027\n",
            "bn-mouse_visual-cortex_2 193 214\n",
            "ca-sandi_auths 86 124\n",
            "email-dnc-corecipient 906 12085\n",
            "email-enron-only 143 623\n",
            "facebook-socfb-Amherst41 2235 90953\n",
            "insecta-ant-colony1-day01 113 4550\n",
            "reptilia-tortoise-network-lm 45 106\n",
            "road-chesapeake 39 170\n",
            "rt-retweet 96 117\n",
            "soc-dolphins 62 159\n",
            "soc-wiki-Vote 889 2914\n",
            "web-edu 3031 6474\n",
            "web-polblogs 643 2280\n",
            "web-spam 4767 37375\n"
          ],
          "name": "stdout"
        }
      ]
    },
    {
      "cell_type": "code",
      "metadata": {
        "id": "huq3XtzW6j1C"
      },
      "source": [
        "graph_names = [\n",
        "              #  \"road-chesapeake\",\n",
        "              #  \"reptilia-tortoise-network-lm\",\n",
        "               \"rt-retweet\",\n",
        "               \"ca-sandi_auths\",\n",
        "               \"email-enron-only\"\n",
        "               ]"
      ],
      "execution_count": 83,
      "outputs": []
    },
    {
      "cell_type": "markdown",
      "metadata": {
        "id": "z7NLuGtu0Cta"
      },
      "source": [
        "# Tree Centrality"
      ]
    },
    {
      "cell_type": "code",
      "metadata": {
        "id": "gCWZEZRrCqFi"
      },
      "source": [
        "tree_centrality = {}\n",
        "tree_time = {}"
      ],
      "execution_count": 59,
      "outputs": []
    },
    {
      "cell_type": "code",
      "metadata": {
        "id": "722Kg4rro7H6",
        "outputId": "3422af12-9771-4ed2-8b51-e63bbbc6f4db",
        "colab": {
          "base_uri": "https://localhost:8080/"
        }
      },
      "source": [
        "for key in graph_names:\n",
        "  # key = \"email-enron-only\"\n",
        "  print(\"Graph:\",key)\n",
        "  tree_centrality[key] = {}\n",
        "  G = graphs[key]\n",
        "  start_time_all = time.time()\n",
        "  for node in G.nodes():\n",
        "    # print(node)\n",
        "    tree_centrality[key][node] = count_tree(G, node)\n",
        "  all_time = time.time() - start_time_all\n",
        "  print(\" time:\", all_time)\n",
        "  tree_time[key] = all_time"
      ],
      "execution_count": 60,
      "outputs": [
        {
          "output_type": "stream",
          "text": [
            "Graph: road-chesapeake\n",
            " time: 0.580406665802002\n",
            "Graph: reptilia-tortoise-network-lm\n",
            " time: 1.0569086074829102\n",
            "Graph: rt-retweet\n",
            " time: 0.17590045928955078\n",
            "Graph: ca-sandi_auths\n",
            " time: 0.3396949768066406\n",
            "Graph: email-enron-only\n",
            " time: 1239.881894826889\n"
          ],
          "name": "stdout"
        }
      ]
    },
    {
      "cell_type": "code",
      "metadata": {
        "id": "8ah0XVFpERlN"
      },
      "source": [
        "with open('result/tree_centrality.json', 'w') as fp:\n",
        "    json.dump(tree_centrality, fp, indent=4)\n",
        "with open('result/tree_time.json', 'w') as fp:\n",
        "    json.dump(tree_time, fp, indent=4)"
      ],
      "execution_count": 66,
      "outputs": []
    },
    {
      "cell_type": "markdown",
      "metadata": {
        "id": "yUHqtnpwEprH"
      },
      "source": [
        "# Graph Centrality"
      ]
    },
    {
      "cell_type": "code",
      "metadata": {
        "id": "BTO3WdPUE0OQ"
      },
      "source": [
        "graph_centrality = {}\n",
        "graph_time = {}"
      ],
      "execution_count": 78,
      "outputs": []
    },
    {
      "cell_type": "code",
      "metadata": {
        "id": "uirMOCu-189h"
      },
      "source": [
        "def fun(G, v):\n",
        "    print(v,\"-\")\n",
        "    centrality = count_subgraph(G,v)\n",
        "    print(v,centrality)\n",
        "    return (v,centrality)"
      ],
      "execution_count": 81,
      "outputs": []
    },
    {
      "cell_type": "code",
      "metadata": {
        "id": "F6Wf8U4D12YR",
        "outputId": "6598cb55-1fa9-4dfa-f100-20bd0c93df6e",
        "colab": {
          "base_uri": "https://localhost:8080/"
        }
      },
      "source": [
        "for key in graph_names:\n",
        "    print(\"Graph:\",key)\n",
        "    graph_centrality[key] = {}\n",
        "    G = graphs[key]\n",
        "    start_time_all = time.time()\n",
        "    with Pool(processes=4) as pool:\n",
        "        graph_centrality[key] = pool.starmap(fun, zip([G]*G.number_of_nodes(), list(G.nodes())))\n",
        "    all_time = time.time() - start_time_all\n",
        "    print(\" time:\", all_time)\n",
        "    graph_time[key] = all_time\n",
        "    break"
      ],
      "execution_count": null,
      "outputs": [
        {
          "output_type": "stream",
          "text": [
            "Graph: rt-retweet\n",
            "16 -\n",
            "56 -\n",
            "45 -\n",
            "6 -\n",
            "16 2\n",
            "6 2\n",
            "5 -\n",
            "1 -\n",
            "5 1\n",
            "1 1\n",
            "17 -\n",
            "8 -\n",
            "17 2\n",
            "8 5\n",
            "20 -\n",
            "54 -\n",
            "20 2\n",
            "45 48\n",
            "89 -\n",
            "40 -\n",
            "40 2\n",
            "93 -\n",
            "56 888\n",
            "2 -\n",
            "2 1\n",
            "75 -\n",
            "75 784\n",
            "3 -\n",
            "3 1\n",
            "19 -\n",
            "19 2\n",
            "4 -\n",
            "4 1\n",
            "39 -\n",
            "39 6\n",
            "42 -\n",
            "42 6\n",
            "72 -\n",
            "54 23616\n",
            "76 -\n",
            "76 2\n",
            "85 -\n",
            "85 2\n",
            "11 -\n",
            "11 1\n",
            "94 -\n",
            "94 2\n",
            "15 -\n",
            "15 2\n",
            "12 -\n",
            "12 1\n",
            "24 -\n",
            "24 2\n",
            "13 -\n",
            "13 1\n",
            "41 -\n",
            "41 2\n",
            "14 -\n",
            "14 1\n",
            "50 -\n",
            "50 14\n",
            "21 -\n",
            "21 3\n",
            "33 -\n",
            "33 3\n",
            "84 -\n",
            "84 2\n",
            "18 -\n",
            "18 1\n",
            "96 -\n",
            "96 4\n",
            "53 -\n",
            "53 4\n",
            "22 -\n",
            "22 1\n",
            "65 -\n",
            "65 2\n",
            "68 -\n",
            "68 4\n",
            "51 -\n",
            "51 2\n",
            "23 -\n",
            "23 1\n",
            "25 -\n",
            "25 1\n",
            "26 -\n",
            "26 1\n",
            "27 -\n",
            "27 1\n",
            "32 -\n",
            "32 13\n",
            "78 -\n",
            "78 13\n",
            "29 -\n",
            "29 1\n",
            "64 -\n",
            "64 10\n",
            "30 -\n",
            "30 1\n",
            "31 -\n",
            "31 1\n",
            "55 -\n",
            "55 2\n",
            "58 -\n",
            "58 74\n",
            "34 -\n",
            "34 1\n",
            "35 -\n",
            "35 1\n",
            "36 -\n",
            "36 1\n",
            "37 -\n",
            "37 1\n",
            "59 -\n",
            "59 3\n",
            "66 -\n",
            "66 3\n",
            "81 -\n",
            "81 33\n",
            "88 -\n",
            "88 3\n",
            "43 -\n",
            "43 1\n",
            "74 -\n",
            "74 444\n",
            "44 -\n",
            "44 1\n",
            "79 -\n",
            "79 98\n",
            "83 -\n",
            "83 49\n",
            "46 -\n",
            "46 1\n",
            "47 -\n",
            "47 1\n",
            "73 -\n",
            "73 2\n",
            "48 -\n",
            "48 1\n",
            "87 -\n",
            "87 2\n",
            "70 -\n",
            "70 10\n",
            "49 -\n",
            "49 1\n",
            "77 -\n",
            "77 15\n",
            "52 -\n",
            "52 1\n",
            "57 -\n",
            "57 5\n",
            "67 -\n",
            "67 23617\n",
            "92 -\n",
            "92 23617\n",
            "80 -\n",
            "80 889\n",
            "90 -\n",
            "90 889\n",
            "60 -\n",
            "60 1\n",
            "62 -\n",
            "62 1\n",
            "63 -\n",
            "63 1\n",
            "91 -\n",
            "91 3\n",
            "69 -\n",
            "69 1\n",
            "71 -\n",
            "71 1\n",
            "82 -\n",
            "82 1\n",
            "86 -\n",
            "86 1\n"
          ],
          "name": "stdout"
        }
      ]
    },
    {
      "cell_type": "code",
      "metadata": {
        "id": "KcQqur6RLAY6"
      },
      "source": [
        "# for key in graph_names:\n",
        "#   print(\"Graph:\",key)\n",
        "#   graph_centrality[key] = {}\n",
        "#   G = graphs[key]\n",
        "#   start_time_all = time.time()\n",
        "#   for node in G.nodes():\n",
        "#     graph_centrality[key][node] = count_subgraph(G, node)\n",
        "#   all_time = time.time() - start_time_all\n",
        "#   print(\" time:\", all_time)\n",
        "#   graph_time[key] = all_time"
      ],
      "execution_count": null,
      "outputs": []
    },
    {
      "cell_type": "code",
      "metadata": {
        "id": "FGGd7peZIbVE"
      },
      "source": [
        "with open('result/graph_centrality.json', 'w') as fp:\n",
        "    json.dump(graph_centrality, fp, indent=4)\n",
        "with open('result/graph_time.json', 'w') as fp:\n",
        "    json.dump(graph_time, fp, indent=4)"
      ],
      "execution_count": null,
      "outputs": []
    },
    {
      "cell_type": "markdown",
      "metadata": {
        "id": "o2crzdJAFE-i"
      },
      "source": [
        "# Betweenness Centrality"
      ]
    },
    {
      "cell_type": "code",
      "metadata": {
        "id": "1BDoAcOGKQF-"
      },
      "source": [
        "betweenness_centrality = nx.betweenness_centrality(G)"
      ],
      "execution_count": null,
      "outputs": []
    },
    {
      "cell_type": "code",
      "metadata": {
        "id": "_dcJJrLRMr6K"
      },
      "source": [
        "with open('result/betweenness_centrality.json', 'w') as fp:\n",
        "    json.dump(betweenness_centrality, fp, indent=4)"
      ],
      "execution_count": null,
      "outputs": []
    },
    {
      "cell_type": "markdown",
      "metadata": {
        "id": "4rxj8D5EKQkM"
      },
      "source": [
        "# Eigenvector Centrality"
      ]
    },
    {
      "cell_type": "code",
      "metadata": {
        "id": "ofNpZxzrFJlq"
      },
      "source": [
        "eigenvector_centrality = nx.eigenvector_centrality(G)"
      ],
      "execution_count": null,
      "outputs": []
    },
    {
      "cell_type": "code",
      "metadata": {
        "id": "z4PpdEnqKMj-"
      },
      "source": [
        "with open('result/eigenvector_centrality.json', 'w') as fp:\n",
        "    json.dump(eigenvector_centrality, fp, indent=4)"
      ],
      "execution_count": null,
      "outputs": []
    },
    {
      "cell_type": "markdown",
      "metadata": {
        "id": "_FNwuzBGM92Z"
      },
      "source": [
        "# Degree Centrality"
      ]
    },
    {
      "cell_type": "code",
      "metadata": {
        "id": "b6kYEKjOMfsw"
      },
      "source": [
        "degree_centrality = nx.degree_centrality(G)"
      ],
      "execution_count": null,
      "outputs": []
    },
    {
      "cell_type": "code",
      "metadata": {
        "id": "gH7AI54ANHgq"
      },
      "source": [
        "with open('result/degree_centrality.json', 'w') as fp:\n",
        "    json.dump(degree_centrality, fp, indent=4)"
      ],
      "execution_count": null,
      "outputs": []
    }
  ]
}