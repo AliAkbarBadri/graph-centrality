{
  "nbformat": 4,
  "nbformat_minor": 0,
  "metadata": {
    "colab": {
      "name": "All-subgraphs.ipynb",
      "provenance": [],
      "authorship_tag": "ABX9TyOuoCmJYlvjjwlw/WJMzySy",
      "include_colab_link": true
    },
    "kernelspec": {
      "name": "python3",
      "display_name": "Python 3"
    }
  },
  "cells": [
    {
      "cell_type": "markdown",
      "metadata": {
        "id": "view-in-github",
        "colab_type": "text"
      },
      "source": [
        "<a href=\"https://colab.research.google.com/github/AliAkbarBadri/graph-centrality/blob/main/All_subgraphs.ipynb\" target=\"_parent\"><img src=\"https://colab.research.google.com/assets/colab-badge.svg\" alt=\"Open In Colab\"/></a>"
      ]
    },
    {
      "cell_type": "code",
      "metadata": {
        "id": "3dvxgt-0_SLz"
      },
      "source": [
        "import networkx as nx"
      ],
      "execution_count": 10,
      "outputs": []
    },
    {
      "cell_type": "markdown",
      "metadata": {
        "id": "271un45yAI4X"
      },
      "source": [
        "# All subgraph function"
      ]
    },
    {
      "cell_type": "code",
      "metadata": {
        "id": "BKxHr_vDBBpA"
      },
      "source": [
        "def get_all_subgraph(G, v):\n",
        "  neighbours = G.edges(v)\n",
        "  if len(neighbours) == 0:\n",
        "    return 1\n",
        "  else:\n",
        "    for e in neighbours:\n",
        "      G_temp = G.copy()\n",
        "      G.remove_edge(*e)\n",
        "      a = get_all_subgraph(G, v)\n",
        "      b = (2**G_temp.number_of_edges(*e) - 1)*get_all_subgraph(nx.contracted_edge(G_temp, e, self_loops=False), e[0])\n",
        "      return a + b"
      ],
      "execution_count": 57,
      "outputs": []
    },
    {
      "cell_type": "markdown",
      "metadata": {
        "id": "tugP1mq3AS_K"
      },
      "source": [
        "# Line"
      ]
    },
    {
      "cell_type": "code",
      "metadata": {
        "id": "HAgBJZtBE3oS"
      },
      "source": [
        "line = nx.path_graph(4)"
      ],
      "execution_count": 60,
      "outputs": []
    },
    {
      "cell_type": "code",
      "metadata": {
        "id": "m3OyhqCb_3Uw",
        "outputId": "149e6d35-cc1f-45c0-84d0-fe79630f644e",
        "colab": {
          "base_uri": "https://localhost:8080/"
        }
      },
      "source": [
        "line.edges()"
      ],
      "execution_count": 61,
      "outputs": [
        {
          "output_type": "execute_result",
          "data": {
            "text/plain": [
              "EdgeView([(0, 1), (1, 2), (2, 3)])"
            ]
          },
          "metadata": {
            "tags": []
          },
          "execution_count": 61
        }
      ]
    },
    {
      "cell_type": "code",
      "metadata": {
        "id": "65ybSVEC_v0l",
        "outputId": "d5d38b09-f8ae-469d-fee1-f35145fb04f8",
        "colab": {
          "base_uri": "https://localhost:8080/"
        }
      },
      "source": [
        "get_all_subgraph(line,0)"
      ],
      "execution_count": 62,
      "outputs": [
        {
          "output_type": "execute_result",
          "data": {
            "text/plain": [
              "4"
            ]
          },
          "metadata": {
            "tags": []
          },
          "execution_count": 62
        }
      ]
    },
    {
      "cell_type": "markdown",
      "metadata": {
        "id": "abGp8l7AAoLN"
      },
      "source": [
        "# Star"
      ]
    },
    {
      "cell_type": "code",
      "metadata": {
        "id": "0LTsejaQPnhC"
      },
      "source": [
        "star = nx.star_graph(3)"
      ],
      "execution_count": 63,
      "outputs": []
    },
    {
      "cell_type": "code",
      "metadata": {
        "colab": {
          "base_uri": "https://localhost:8080/"
        },
        "id": "eJzm9GliPtnt",
        "outputId": "259b3bef-5595-40c0-f249-f93aa1293a1e"
      },
      "source": [
        "star.edges()"
      ],
      "execution_count": 64,
      "outputs": [
        {
          "output_type": "execute_result",
          "data": {
            "text/plain": [
              "EdgeView([(0, 1), (0, 2), (0, 3)])"
            ]
          },
          "metadata": {
            "tags": []
          },
          "execution_count": 64
        }
      ]
    },
    {
      "cell_type": "code",
      "metadata": {
        "colab": {
          "base_uri": "https://localhost:8080/"
        },
        "id": "--ftsNNbGF8l",
        "outputId": "12121dbb-81a8-4454-81a4-57e810d1e494"
      },
      "source": [
        "get_all_subgraph(star,0)"
      ],
      "execution_count": 65,
      "outputs": [
        {
          "output_type": "execute_result",
          "data": {
            "text/plain": [
              "8"
            ]
          },
          "metadata": {
            "tags": []
          },
          "execution_count": 65
        }
      ]
    }
  ]
}