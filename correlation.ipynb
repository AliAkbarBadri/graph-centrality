{
  "nbformat": 4,
  "nbformat_minor": 0,
  "metadata": {
    "colab": {
      "name": "All-subgraphs-tree.ipynb",
      "provenance": [],
      "include_colab_link": true
    },
    "kernelspec": {
      "name": "python3",
      "display_name": "Python 3"
    }
  },
  "cells": [
    {
      "cell_type": "markdown",
      "metadata": {
        "id": "view-in-github",
        "colab_type": "text"
      },
      "source": [
        "<a href=\"https://colab.research.google.com/github/AliAkbarBadri/graph-centrality/blob/main/correlation.ipynb\" target=\"_parent\"><img src=\"https://colab.research.google.com/assets/colab-badge.svg\" alt=\"Open In Colab\"/></a>"
      ]
    },
    {
      "cell_type": "code",
      "metadata": {
        "id": "-35A-jyN-3Hs",
        "colab": {
          "base_uri": "https://localhost:8080/"
        },
        "outputId": "7a0ee28d-2344-46b4-eb6a-3433163bd56c"
      },
      "source": [
        "import networkx as nx\r\n",
        "def count_tree(T, v):\r\n",
        "  neighbours = T.edges(v)\r\n",
        "  if len(neighbours) == 0: return 1\r\n",
        "  else:\r\n",
        "    for e in neighbours:\r\n",
        "      T_temp = T.copy()\r\n",
        "      T_temp.remove_edge(*e)\r\n",
        "      return count_tree(T_temp, v) * (count_tree(T_temp,e[1]) + 1) \r\n",
        "# test\r\n",
        "print(count_tree(nx.path_graph(4),0)) # result must be equal to 4\r\n",
        "print(count_tree(nx.star_graph(4), 0)) # result must be equal to 16\r\n"
      ],
      "execution_count": 12,
      "outputs": [
        {
          "output_type": "stream",
          "text": [
            "4\n",
            "16\n"
          ],
          "name": "stdout"
        }
      ]
    }
  ]
}
