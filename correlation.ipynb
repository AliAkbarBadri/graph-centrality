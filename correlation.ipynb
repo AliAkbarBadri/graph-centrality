{
  "nbformat": 4,
  "nbformat_minor": 0,
  "metadata": {
    "colab": {
      "name": "All-subgraphs-tree.ipynb",
      "provenance": [],
      "toc_visible": true,
      "include_colab_link": true
    },
    "kernelspec": {
      "name": "python3",
      "display_name": "Python 3"
    }
  },
  "cells": [
    {
      "cell_type": "markdown",
      "metadata": {
        "id": "view-in-github",
        "colab_type": "text"
      },
      "source": [
        "<a href=\"https://colab.research.google.com/github/AliAkbarBadri/graph-centrality/blob/main/correlation.ipynb\" target=\"_parent\"><img src=\"https://colab.research.google.com/assets/colab-badge.svg\" alt=\"Open In Colab\"/></a>"
      ]
    },
    {
      "cell_type": "markdown",
      "metadata": {
        "id": "OZ0atjq8ITyJ"
      },
      "source": [
        "# Setup"
      ]
    },
    {
      "cell_type": "code",
      "metadata": {
        "id": "3dvxgt-0_SLz"
      },
      "source": [
        "import networkx as nx\n",
        "import glob\n",
        "import pandas as pd\n",
        "import time\n",
        "import numpy as np\n",
        "import json\n",
        "import matplotlib as plt\n",
        "from multiprocessing import Pool"
      ],
      "execution_count": 1,
      "outputs": []
    },
    {
      "cell_type": "markdown",
      "metadata": {
        "id": "kG9_dkdU7yb7"
      },
      "source": [
        "# Get Results"
      ]
    },
    {
      "cell_type": "code",
      "metadata": {
        "colab": {
          "base_uri": "https://localhost:8080/"
        },
        "id": "BP4oyxEcBR94",
        "outputId": "59a90d2d-25aa-4d72-a53e-e1ae7b593ce2"
      },
      "source": [
        "! curl -L https://api.github.com/repos/AliAkbarBadri/graph-centrality/tarball --output repo.tar\n",
        "! tar xf repo.tar --wildcards \"*/results/*.json\" --strip-components=1\n",
        "! rm -rf repo.tar"
      ],
      "execution_count": 15,
      "outputs": [
        {
          "output_type": "stream",
          "text": [
            "  % Total    % Received % Xferd  Average Speed   Time    Time     Time  Current\n",
            "                                 Dload  Upload   Total   Spent    Left  Speed\n",
            "  0     0    0     0    0     0      0      0 --:--:-- --:--:-- --:--:--     0\n",
            "100  454k    0  454k    0     0   865k      0 --:--:-- --:--:-- --:--:-- 1433k\n"
          ],
          "name": "stdout"
        }
      ]
    },
    {
      "cell_type": "code",
      "metadata": {
        "colab": {
          "base_uri": "https://localhost:8080/"
        },
        "id": "--ftsNNbGF8l",
        "outputId": "e0e165de-d8aa-4f6b-d457-731dae2a325b"
      },
      "source": [
        "for file_name in sorted(glob.glob('results/*centrality.json')):\n",
        "  print(file_name.split(\"/\")[1].split(\".json\")[0])"
      ],
      "execution_count": 8,
      "outputs": [
        {
          "output_type": "stream",
          "text": [
            "betweenness_centrality\n",
            "degree_centrality\n",
            "eigenvector_centrality\n",
            "graph_centrality\n",
            "tree_centrality\n"
          ],
          "name": "stdout"
        }
      ]
    },
    {
      "cell_type": "markdown",
      "metadata": {
        "id": "DAwI3mN2A95b"
      },
      "source": [
        "# Convert to CSV"
      ]
    },
    {
      "cell_type": "code",
      "metadata": {
        "id": "cfB954YoA_wu"
      },
      "source": [
        "graph_names = [\n",
        "               \"bn-mouse_visual-cortex_1\",\n",
        "               \"ca-sandi_auths\",\n",
        "               \"reptilia-tortoise-network-lm\",\n",
        "               \"road-chesapeake\",\n",
        "               \"rt-retweet\"  \n",
        "]\n",
        "# key:graph_name, value:list of dataframes of centralities\n",
        "df_dict = {}\n",
        "for graph_name in graph_names:\n",
        "  df_dict[graph_name] = []\n",
        "\n",
        "for file_name in sorted(glob.glob('results/*centrality.json')):\n",
        "  centrality_name = file_name.split(\"/\")[1].replace(\"_centrality.json\",\"\")\n",
        "  json_file = open(file_name)\n",
        "  json_str = json_file.read()\n",
        "  json_data = json.loads(json_str)\n",
        "  for key,value in json_data.items():\n",
        "    df_dict[key].append(pd.DataFrame(list(value.items()),columns = ['node',centrality_name]).set_index('node'))"
      ],
      "execution_count": 41,
      "outputs": []
    },
    {
      "cell_type": "code",
      "metadata": {
        "id": "JdPE2nJdKpN_",
        "outputId": "d49593c4-796e-420f-8105-2b9175793fe2",
        "colab": {
          "base_uri": "https://localhost:8080/",
          "height": 450
        }
      },
      "source": [
        "df_dict['ca-sandi_auths'][0]"
      ],
      "execution_count": 42,
      "outputs": [
        {
          "output_type": "execute_result",
          "data": {
            "text/html": [
              "<div>\n",
              "<style scoped>\n",
              "    .dataframe tbody tr th:only-of-type {\n",
              "        vertical-align: middle;\n",
              "    }\n",
              "\n",
              "    .dataframe tbody tr th {\n",
              "        vertical-align: top;\n",
              "    }\n",
              "\n",
              "    .dataframe thead th {\n",
              "        text-align: right;\n",
              "    }\n",
              "</style>\n",
              "<table border=\"1\" class=\"dataframe\">\n",
              "  <thead>\n",
              "    <tr style=\"text-align: right;\">\n",
              "      <th></th>\n",
              "      <th>betweenness</th>\n",
              "    </tr>\n",
              "    <tr>\n",
              "      <th>node</th>\n",
              "      <th></th>\n",
              "    </tr>\n",
              "  </thead>\n",
              "  <tbody>\n",
              "    <tr>\n",
              "      <th>35</th>\n",
              "      <td>0.001821</td>\n",
              "    </tr>\n",
              "    <tr>\n",
              "      <th>1</th>\n",
              "      <td>0.000000</td>\n",
              "    </tr>\n",
              "    <tr>\n",
              "      <th>37</th>\n",
              "      <td>0.000000</td>\n",
              "    </tr>\n",
              "    <tr>\n",
              "      <th>18</th>\n",
              "      <td>0.000000</td>\n",
              "    </tr>\n",
              "    <tr>\n",
              "      <th>2</th>\n",
              "      <td>0.000000</td>\n",
              "    </tr>\n",
              "    <tr>\n",
              "      <th>...</th>\n",
              "      <td>...</td>\n",
              "    </tr>\n",
              "    <tr>\n",
              "      <th>47</th>\n",
              "      <td>0.000000</td>\n",
              "    </tr>\n",
              "    <tr>\n",
              "      <th>50</th>\n",
              "      <td>0.000000</td>\n",
              "    </tr>\n",
              "    <tr>\n",
              "      <th>63</th>\n",
              "      <td>0.000000</td>\n",
              "    </tr>\n",
              "    <tr>\n",
              "      <th>78</th>\n",
              "      <td>0.000000</td>\n",
              "    </tr>\n",
              "    <tr>\n",
              "      <th>70</th>\n",
              "      <td>0.000000</td>\n",
              "    </tr>\n",
              "  </tbody>\n",
              "</table>\n",
              "<p>86 rows × 1 columns</p>\n",
              "</div>"
            ],
            "text/plain": [
              "      betweenness\n",
              "node             \n",
              "35       0.001821\n",
              "1        0.000000\n",
              "37       0.000000\n",
              "18       0.000000\n",
              "2        0.000000\n",
              "...           ...\n",
              "47       0.000000\n",
              "50       0.000000\n",
              "63       0.000000\n",
              "78       0.000000\n",
              "70       0.000000\n",
              "\n",
              "[86 rows x 1 columns]"
            ]
          },
          "metadata": {
            "tags": []
          },
          "execution_count": 42
        }
      ]
    },
    {
      "cell_type": "code",
      "metadata": {
        "id": "BxfwJrztJdTp"
      },
      "source": [
        "for key,value in df_dict.items():\n",
        "  df_dict[key] = pd.concat(value, axis=1)"
      ],
      "execution_count": 44,
      "outputs": []
    },
    {
      "cell_type": "code",
      "metadata": {
        "id": "ZI5MEMYeMS0H",
        "outputId": "3d9f05e9-b2b0-42ce-fbb2-2245f75a56b9",
        "colab": {
          "base_uri": "https://localhost:8080/",
          "height": 450
        }
      },
      "source": [
        "df_dict['ca-sandi_auths']"
      ],
      "execution_count": 45,
      "outputs": [
        {
          "output_type": "execute_result",
          "data": {
            "text/html": [
              "<div>\n",
              "<style scoped>\n",
              "    .dataframe tbody tr th:only-of-type {\n",
              "        vertical-align: middle;\n",
              "    }\n",
              "\n",
              "    .dataframe tbody tr th {\n",
              "        vertical-align: top;\n",
              "    }\n",
              "\n",
              "    .dataframe thead th {\n",
              "        text-align: right;\n",
              "    }\n",
              "</style>\n",
              "<table border=\"1\" class=\"dataframe\">\n",
              "  <thead>\n",
              "    <tr style=\"text-align: right;\">\n",
              "      <th></th>\n",
              "      <th>betweenness</th>\n",
              "      <th>degree</th>\n",
              "      <th>eigenvector</th>\n",
              "      <th>graph</th>\n",
              "      <th>tree</th>\n",
              "    </tr>\n",
              "    <tr>\n",
              "      <th>node</th>\n",
              "      <th></th>\n",
              "      <th></th>\n",
              "      <th></th>\n",
              "      <th></th>\n",
              "      <th></th>\n",
              "    </tr>\n",
              "  </thead>\n",
              "  <tbody>\n",
              "    <tr>\n",
              "      <th>35</th>\n",
              "      <td>0.001821</td>\n",
              "      <td>0.047059</td>\n",
              "      <td>7.241234e-05</td>\n",
              "      <td>2</td>\n",
              "      <td>2</td>\n",
              "    </tr>\n",
              "    <tr>\n",
              "      <th>1</th>\n",
              "      <td>0.000000</td>\n",
              "      <td>0.023529</td>\n",
              "      <td>9.111889e-03</td>\n",
              "      <td>1</td>\n",
              "      <td>1</td>\n",
              "    </tr>\n",
              "    <tr>\n",
              "      <th>37</th>\n",
              "      <td>0.000000</td>\n",
              "      <td>0.023529</td>\n",
              "      <td>3.472574e-17</td>\n",
              "      <td>6</td>\n",
              "      <td>6</td>\n",
              "    </tr>\n",
              "    <tr>\n",
              "      <th>18</th>\n",
              "      <td>0.000000</td>\n",
              "      <td>0.047059</td>\n",
              "      <td>2.520618e-09</td>\n",
              "      <td>2</td>\n",
              "      <td>2</td>\n",
              "    </tr>\n",
              "    <tr>\n",
              "      <th>2</th>\n",
              "      <td>0.000000</td>\n",
              "      <td>0.070588</td>\n",
              "      <td>9.997067e-01</td>\n",
              "      <td>1</td>\n",
              "      <td>1</td>\n",
              "    </tr>\n",
              "    <tr>\n",
              "      <th>...</th>\n",
              "      <td>...</td>\n",
              "      <td>...</td>\n",
              "      <td>...</td>\n",
              "      <td>...</td>\n",
              "      <td>...</td>\n",
              "    </tr>\n",
              "    <tr>\n",
              "      <th>47</th>\n",
              "      <td>0.000000</td>\n",
              "      <td>0.011765</td>\n",
              "      <td>1.984704e-11</td>\n",
              "      <td>1</td>\n",
              "      <td>1</td>\n",
              "    </tr>\n",
              "    <tr>\n",
              "      <th>50</th>\n",
              "      <td>0.000000</td>\n",
              "      <td>0.011765</td>\n",
              "      <td>2.628738e-14</td>\n",
              "      <td>1</td>\n",
              "      <td>1</td>\n",
              "    </tr>\n",
              "    <tr>\n",
              "      <th>63</th>\n",
              "      <td>0.000000</td>\n",
              "      <td>0.011765</td>\n",
              "      <td>2.628738e-14</td>\n",
              "      <td>1</td>\n",
              "      <td>1</td>\n",
              "    </tr>\n",
              "    <tr>\n",
              "      <th>78</th>\n",
              "      <td>0.000000</td>\n",
              "      <td>0.011765</td>\n",
              "      <td>3.472574e-17</td>\n",
              "      <td>7</td>\n",
              "      <td>7</td>\n",
              "    </tr>\n",
              "    <tr>\n",
              "      <th>70</th>\n",
              "      <td>0.000000</td>\n",
              "      <td>0.011765</td>\n",
              "      <td>2.628738e-14</td>\n",
              "      <td>1</td>\n",
              "      <td>1</td>\n",
              "    </tr>\n",
              "  </tbody>\n",
              "</table>\n",
              "<p>86 rows × 5 columns</p>\n",
              "</div>"
            ],
            "text/plain": [
              "      betweenness    degree   eigenvector  graph  tree\n",
              "node                                                  \n",
              "35       0.001821  0.047059  7.241234e-05      2     2\n",
              "1        0.000000  0.023529  9.111889e-03      1     1\n",
              "37       0.000000  0.023529  3.472574e-17      6     6\n",
              "18       0.000000  0.047059  2.520618e-09      2     2\n",
              "2        0.000000  0.070588  9.997067e-01      1     1\n",
              "...           ...       ...           ...    ...   ...\n",
              "47       0.000000  0.011765  1.984704e-11      1     1\n",
              "50       0.000000  0.011765  2.628738e-14      1     1\n",
              "63       0.000000  0.011765  2.628738e-14      1     1\n",
              "78       0.000000  0.011765  3.472574e-17      7     7\n",
              "70       0.000000  0.011765  2.628738e-14      1     1\n",
              "\n",
              "[86 rows x 5 columns]"
            ]
          },
          "metadata": {
            "tags": []
          },
          "execution_count": 45
        }
      ]
    },
    {
      "cell_type": "markdown",
      "metadata": {
        "id": "LW2WBtEX7SoI"
      },
      "source": [
        "# Correlation between all subgraph and tree centrality"
      ]
    },
    {
      "cell_type": "code",
      "metadata": {
        "id": "HAgBJZtBE3oS"
      },
      "source": [
        "line = nx.path_graph(4)\n",
        "print(line.edges())\n",
        "\n",
        "# result must be equal to 4\n",
        "print(count_subgraph(line,0))\n",
        "print(count_tree(line, 0))"
      ],
      "execution_count": null,
      "outputs": []
    },
    {
      "cell_type": "code",
      "metadata": {
        "id": "0LTsejaQPnhC"
      },
      "source": [
        "star = nx.star_graph(4)\n",
        "print(star.edges())\n",
        "# result must be equal to 16\n",
        "print(count_subgraph(star,0))\n",
        "print(count_tree(star, 0))"
      ],
      "execution_count": null,
      "outputs": []
    }
  ]
}