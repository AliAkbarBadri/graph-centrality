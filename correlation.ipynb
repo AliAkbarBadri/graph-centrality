{
  "nbformat": 4,
  "nbformat_minor": 0,
  "metadata": {
    "colab": {
      "name": "All-subgraphs-tree.ipynb",
      "provenance": [],
      "toc_visible": true,
      "include_colab_link": true
    },
    "kernelspec": {
      "name": "python3",
      "display_name": "Python 3"
    }
  },
  "cells": [
    {
      "cell_type": "markdown",
      "metadata": {
        "id": "view-in-github",
        "colab_type": "text"
      },
      "source": [
        "<a href=\"https://colab.research.google.com/github/AliAkbarBadri/graph-centrality/blob/main/correlation.ipynb\" target=\"_parent\"><img src=\"https://colab.research.google.com/assets/colab-badge.svg\" alt=\"Open In Colab\"/></a>"
      ]
    },
    {
      "cell_type": "markdown",
      "metadata": {
        "id": "OZ0atjq8ITyJ"
      },
      "source": [
        "# Setup"
      ]
    },
    {
      "cell_type": "code",
      "metadata": {
        "id": "3dvxgt-0_SLz"
      },
      "source": [
        "import networkx as nx\n",
        "import glob\n",
        "import pandas as pd\n",
        "import time\n",
        "import numpy as np\n",
        "import json\n",
        "import matplotlib as plt\n",
        "from multiprocessing import Pool"
      ],
      "execution_count": 1,
      "outputs": []
    },
    {
      "cell_type": "markdown",
      "metadata": {
        "id": "kG9_dkdU7yb7"
      },
      "source": [
        "# Get Results"
      ]
    },
    {
      "cell_type": "code",
      "metadata": {
        "colab": {
          "base_uri": "https://localhost:8080/"
        },
        "id": "BP4oyxEcBR94",
        "outputId": "6d008c1e-c6dd-428b-8ac8-4cb0029cafda"
      },
      "source": [
        "! curl -L https://api.github.com/repos/AliAkbarBadri/graph-centrality/tarball --output repo.tar\n",
        "! tar xf repo.tar --wildcards \"*/results/*.json\" --strip-components=1\n",
        "! rm -rf repo.tar"
      ],
      "execution_count": 65,
      "outputs": [
        {
          "output_type": "stream",
          "text": [
            "  % Total    % Received % Xferd  Average Speed   Time    Time     Time  Current\n",
            "                                 Dload  Upload   Total   Spent    Left  Speed\n",
            "  0     0    0     0    0     0      0      0 --:--:-- --:--:-- --:--:--     0\n",
            "100  456k    0  456k    0     0   937k      0 --:--:-- --:--:-- --:--:-- 3991k\n"
          ],
          "name": "stdout"
        }
      ]
    },
    {
      "cell_type": "code",
      "metadata": {
        "colab": {
          "base_uri": "https://localhost:8080/"
        },
        "id": "--ftsNNbGF8l",
        "outputId": "97619931-0397-439d-bdb2-d30f23022168"
      },
      "source": [
        "for file_name in sorted(glob.glob('results/*centrality.json')):\n",
        "  print(file_name.split(\"/\")[1].split(\".json\")[0])"
      ],
      "execution_count": 66,
      "outputs": [
        {
          "output_type": "stream",
          "text": [
            "betweenness_centrality\n",
            "degree_centrality\n",
            "eigenvector_centrality\n",
            "graph_centrality\n",
            "tree_centrality\n"
          ],
          "name": "stdout"
        }
      ]
    },
    {
      "cell_type": "markdown",
      "metadata": {
        "id": "DAwI3mN2A95b"
      },
      "source": [
        "# Convert to CSV"
      ]
    },
    {
      "cell_type": "code",
      "metadata": {
        "id": "cfB954YoA_wu"
      },
      "source": [
        "graph_names = [\n",
        "               \"bn-mouse_visual-cortex_1\",\n",
        "               \"ca-sandi_auths\",\n",
        "               \"reptilia-tortoise-network-lm\",\n",
        "               \"road-chesapeake\",\n",
        "               \"rt-retweet\"  \n",
        "]\n",
        "# key:graph_name, value:list of dataframes of centralities\n",
        "df_dict = {}\n",
        "for graph_name in graph_names:\n",
        "  df_dict[graph_name] = []\n",
        "\n",
        "for file_name in sorted(glob.glob('results/*centrality.json')):\n",
        "  centrality_name = file_name.split(\"/\")[1].replace(\"_centrality.json\",\"\")\n",
        "  json_file = open(file_name)\n",
        "  json_str = json_file.read()\n",
        "  json_data = json.loads(json_str)\n",
        "  for key,value in json_data.items():\n",
        "    df_dict[key].append(pd.DataFrame(list(value.items()),columns = ['node',centrality_name]).set_index('node'))"
      ],
      "execution_count": 67,
      "outputs": []
    },
    {
      "cell_type": "code",
      "metadata": {
        "id": "BxfwJrztJdTp"
      },
      "source": [
        "for key,value in df_dict.items():\n",
        "  df_dict[key] = pd.concat(value, axis=1).reset_index()"
      ],
      "execution_count": 68,
      "outputs": []
    },
    {
      "cell_type": "markdown",
      "metadata": {
        "id": "LW2WBtEX7SoI"
      },
      "source": [
        "# Correlation"
      ]
    },
    {
      "cell_type": "code",
      "metadata": {
        "id": "HAgBJZtBE3oS",
        "colab": {
          "base_uri": "https://localhost:8080/"
        },
        "outputId": "e7bdb447-c1aa-4461-c706-1fc648a9e034"
      },
      "source": [
        "for key in df_dict:\n",
        "  print(key)\n",
        "  print(df_dict[key].corr())\n",
        "  print()"
      ],
      "execution_count": 70,
      "outputs": [
        {
          "output_type": "stream",
          "text": [
            "bn-mouse_visual-cortex_1\n",
            "             betweenness    degree  eigenvector     graph      tree\n",
            "betweenness     1.000000  0.097626    -0.090741 -0.057167 -0.058548\n",
            "degree          0.097626  1.000000    -0.178116  0.756884  0.762884\n",
            "eigenvector    -0.090741 -0.178116     1.000000 -0.112443 -0.114604\n",
            "graph          -0.057167  0.756884    -0.112443  1.000000  0.999516\n",
            "tree           -0.058548  0.762884    -0.114604  0.999516  1.000000\n",
            "\n",
            "ca-sandi_auths\n",
            "             betweenness    degree  eigenvector     graph      tree\n",
            "betweenness     1.000000  0.704289    -0.035054 -0.030455 -0.033335\n",
            "degree          0.704289  1.000000     0.147261  0.072563  0.005460\n",
            "eigenvector    -0.035054  0.147261     1.000000 -0.017255 -0.012530\n",
            "graph          -0.030455  0.072563    -0.017255  1.000000  0.097924\n",
            "tree           -0.033335  0.005460    -0.012530  0.097924  1.000000\n",
            "\n",
            "reptilia-tortoise-network-lm\n",
            "             betweenness    degree  eigenvector     graph\n",
            "betweenness     1.000000  0.751974    -0.109496 -0.066926\n",
            "degree          0.751974  1.000000     0.022976  0.027498\n",
            "eigenvector    -0.109496  0.022976     1.000000 -0.040686\n",
            "graph          -0.066926  0.027498    -0.040686  1.000000\n",
            "\n",
            "road-chesapeake\n",
            "             betweenness    degree  eigenvector     graph\n",
            "betweenness     1.000000  0.131260    -0.080542 -0.057287\n",
            "degree          0.131260  1.000000    -0.124686 -0.093664\n",
            "eigenvector    -0.080542 -0.124686     1.000000 -0.033474\n",
            "graph          -0.057287 -0.093664    -0.033474  1.000000\n",
            "\n",
            "rt-retweet\n",
            "             betweenness    degree  eigenvector     graph\n",
            "betweenness     1.000000  0.812015    -0.028507  0.146043\n",
            "degree          0.812015  1.000000     0.104836  0.113048\n",
            "eigenvector    -0.028507  0.104836     1.000000 -0.018596\n",
            "graph           0.146043  0.113048    -0.018596  1.000000\n",
            "\n"
          ],
          "name": "stdout"
        }
      ]
    }
  ]
}