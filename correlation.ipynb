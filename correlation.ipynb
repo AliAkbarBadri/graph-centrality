{
  "nbformat": 4,
  "nbformat_minor": 0,
  "metadata": {
    "colab": {
      "name": "All-subgraphs-tree.ipynb",
      "provenance": [],
      "toc_visible": true,
      "include_colab_link": true
    },
    "kernelspec": {
      "name": "python3",
      "display_name": "Python 3"
    }
  },
  "cells": [
    {
      "cell_type": "markdown",
      "metadata": {
        "id": "view-in-github",
        "colab_type": "text"
      },
      "source": [
        "<a href=\"https://colab.research.google.com/github/AliAkbarBadri/graph-centrality/blob/main/correlation.ipynb\" target=\"_parent\"><img src=\"https://colab.research.google.com/assets/colab-badge.svg\" alt=\"Open In Colab\"/></a>"
      ]
    },
    {
      "cell_type": "markdown",
      "metadata": {
        "id": "OZ0atjq8ITyJ"
      },
      "source": [
        "# Setup"
      ]
    },
    {
      "cell_type": "code",
      "metadata": {
        "id": "3dvxgt-0_SLz"
      },
      "source": [
        "import networkx as nx\n",
        "import glob\n",
        "import pandas as pd\n",
        "import time\n",
        "import numpy as np\n",
        "import json\n",
        "import matplotlib as plt\n",
        "from multiprocessing import Pool"
      ],
      "execution_count": 92,
      "outputs": []
    },
    {
      "cell_type": "markdown",
      "metadata": {
        "id": "kG9_dkdU7yb7"
      },
      "source": [
        "# Get Results"
      ]
    },
    {
      "cell_type": "code",
      "metadata": {
        "colab": {
          "base_uri": "https://localhost:8080/"
        },
        "id": "BP4oyxEcBR94",
        "outputId": "ee52d4f9-cfee-4788-b782-79ab319518e4"
      },
      "source": [
        "! curl -L https://api.github.com/repos/AliAkbarBadri/graph-centrality/tarball --output repo.tar\n",
        "! tar xf repo.tar --wildcards \"*/results/*.json\" --strip-components=1\n",
        "! rm -rf repo.tar"
      ],
      "execution_count": 93,
      "outputs": [
        {
          "output_type": "stream",
          "text": [
            "  % Total    % Received % Xferd  Average Speed   Time    Time     Time  Current\n",
            "                                 Dload  Upload   Total   Spent    Left  Speed\n",
            "  0     0    0     0    0     0      0      0 --:--:-- --:--:-- --:--:--     0\n",
            "100  456k    0  456k    0     0   920k      0 --:--:-- --:--:-- --:--:--  920k\n"
          ],
          "name": "stdout"
        }
      ]
    },
    {
      "cell_type": "code",
      "metadata": {
        "colab": {
          "base_uri": "https://localhost:8080/"
        },
        "id": "--ftsNNbGF8l",
        "outputId": "20e8f0f5-68cb-4071-b97a-4ed6b6e82a6b"
      },
      "source": [
        "for file_name in sorted(glob.glob('results/*centrality.json')):\n",
        "  print(file_name.split(\"/\")[1].split(\".json\")[0])"
      ],
      "execution_count": 94,
      "outputs": [
        {
          "output_type": "stream",
          "text": [
            "betweenness_centrality\n",
            "degree_centrality\n",
            "eigenvector_centrality\n",
            "graph_centrality\n",
            "tree_centrality\n"
          ],
          "name": "stdout"
        }
      ]
    },
    {
      "cell_type": "markdown",
      "metadata": {
        "id": "DAwI3mN2A95b"
      },
      "source": [
        "# Convert to CSV"
      ]
    },
    {
      "cell_type": "code",
      "metadata": {
        "id": "cfB954YoA_wu"
      },
      "source": [
        "graph_names = [\n",
        "               \"bn-mouse_visual-cortex_1\",\n",
        "               \"ca-sandi_auths\",\n",
        "               \"reptilia-tortoise-network-lm\",\n",
        "               \"road-chesapeake\",\n",
        "               \"rt-retweet\"  \n",
        "]\n",
        "# key:graph_name, value:list of dataframes of centralities\n",
        "df_dict = {}\n",
        "for graph_name in graph_names:\n",
        "  df_dict[graph_name] = []\n",
        "\n",
        "for file_name in sorted(glob.glob('results/*centrality.json')):\n",
        "  centrality_name = file_name.split(\"/\")[1].replace(\"_centrality.json\",\"\")\n",
        "  json_file = open(file_name)\n",
        "  json_str = json_file.read()\n",
        "  json_data = json.loads(json_str)\n",
        "  for key,value in json_data.items():\n",
        "    df_dict[key].append(pd.DataFrame(list(value.items()),columns = ['node',centrality_name]).set_index('node'))"
      ],
      "execution_count": 95,
      "outputs": []
    },
    {
      "cell_type": "code",
      "metadata": {
        "id": "BxfwJrztJdTp"
      },
      "source": [
        "for key,value in df_dict.items():\n",
        "  df_dict[key] = pd.concat(value, axis=1).reset_index()"
      ],
      "execution_count": 96,
      "outputs": []
    },
    {
      "cell_type": "markdown",
      "metadata": {
        "id": "LW2WBtEX7SoI"
      },
      "source": [
        "# Correlation"
      ]
    },
    {
      "cell_type": "code",
      "metadata": {
        "id": "HAgBJZtBE3oS",
        "colab": {
          "base_uri": "https://localhost:8080/"
        },
        "outputId": "6bb1e995-edec-4e0c-b5ab-ec5b4faf7fdc"
      },
      "source": [
        "for key in df_dict:\n",
        "  print(key)\n",
        "  print(df_dict[key].corr())\n",
        "  print(\"------------------------------------------\")\n",
        "  print()"
      ],
      "execution_count": 98,
      "outputs": [
        {
          "output_type": "stream",
          "text": [
            "bn-mouse_visual-cortex_1\n",
            "             betweenness    degree  eigenvector     graph      tree\n",
            "betweenness     1.000000  0.097626    -0.090741 -0.057167 -0.058548\n",
            "degree          0.097626  1.000000    -0.178116  0.756884  0.762884\n",
            "eigenvector    -0.090741 -0.178116     1.000000 -0.112443 -0.114604\n",
            "graph          -0.057167  0.756884    -0.112443  1.000000  0.999516\n",
            "tree           -0.058548  0.762884    -0.114604  0.999516  1.000000\n",
            "------------------------------------------\n",
            "\n",
            "ca-sandi_auths\n",
            "             betweenness    degree  eigenvector     graph      tree\n",
            "betweenness     1.000000  0.704289    -0.035054 -0.030455 -0.033335\n",
            "degree          0.704289  1.000000     0.147261  0.072563  0.005460\n",
            "eigenvector    -0.035054  0.147261     1.000000 -0.017255 -0.012530\n",
            "graph          -0.030455  0.072563    -0.017255  1.000000  0.097924\n",
            "tree           -0.033335  0.005460    -0.012530  0.097924  1.000000\n",
            "------------------------------------------\n",
            "\n",
            "reptilia-tortoise-network-lm\n",
            "             betweenness    degree  eigenvector     graph      tree\n",
            "betweenness     1.000000  0.751974    -0.109496 -0.066926  0.103166\n",
            "degree          0.751974  1.000000     0.022976  0.027498  0.208281\n",
            "eigenvector    -0.109496  0.022976     1.000000 -0.040686 -0.104943\n",
            "graph          -0.066926  0.027498    -0.040686  1.000000  0.095375\n",
            "tree            0.103166  0.208281    -0.104943  0.095375  1.000000\n",
            "------------------------------------------\n",
            "\n",
            "road-chesapeake\n",
            "             betweenness    degree  eigenvector     graph      tree\n",
            "betweenness     1.000000  0.131260    -0.080542 -0.140952 -0.143659\n",
            "degree          0.131260  1.000000    -0.124686  0.829440  0.837439\n",
            "eigenvector    -0.080542 -0.124686     1.000000 -0.049794 -0.054402\n",
            "graph          -0.140952  0.829440    -0.049794  1.000000  0.988249\n",
            "tree           -0.143659  0.837439    -0.054402  0.988249  1.000000\n",
            "------------------------------------------\n",
            "\n",
            "rt-retweet\n",
            "             betweenness    degree  eigenvector     graph      tree\n",
            "betweenness     1.000000  0.812015    -0.028507  0.062972  0.018868\n",
            "degree          0.812015  1.000000     0.104836  0.443383  0.315248\n",
            "eigenvector    -0.028507  0.104836     1.000000 -0.019925 -0.014476\n",
            "graph           0.062972  0.443383    -0.019925  1.000000  0.765244\n",
            "tree            0.018868  0.315248    -0.014476  0.765244  1.000000\n",
            "------------------------------------------\n",
            "\n"
          ],
          "name": "stdout"
        }
      ]
    },
    {
      "cell_type": "code",
      "metadata": {
        "id": "afFX6pIPfC3V"
      },
      "source": [
        ""
      ],
      "execution_count": null,
      "outputs": []
    }
  ]
}